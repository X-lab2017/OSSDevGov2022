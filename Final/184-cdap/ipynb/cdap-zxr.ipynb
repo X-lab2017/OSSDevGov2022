{
 "cells": [
  {
   "cell_type": "code",
   "execution_count": 1,
   "id": "6a18a676-fe49-4dab-ab49-e3ae7cbfe570",
   "metadata": {},
   "outputs": [],
   "source": [
    "var openDigger = require('../src/open_digger');"
   ]
  },
  {
   "cell_type": "code",
   "execution_count": 2,
   "id": "8c2ae644-0a6d-4bd7-b05d-dc3a002bd0b6",
   "metadata": {
    "tags": []
   },
   "outputs": [
    {
     "name": "stdout",
     "output_type": "stream",
     "text": [
      "[\n",
      "  { name: '_temporary_and_external_tables' },\n",
      "  { name: 'default' },\n",
      "  { name: 'github_log' },\n",
      "  { name: 'system' }\n",
      "]\n"
     ]
    }
   ],
   "source": [
    "var query = openDigger.driver.clickhouse.query;\n",
    "query(    \n",
    "    `SHOW DATABASES`\n",
    ")\n",
    "    .then(res=>{    \n",
    "    console.log(res);\n",
    "})"
   ]
  },
  {
   "cell_type": "code",
   "execution_count": 9,
   "id": "393a936d-6c38-4e16-af7e-04aaf58d50ff",
   "metadata": {},
   "outputs": [
    {
     "data": {
      "text/plain": [
       "[\n",
       "  '2015-1',  '2015-2',  '2015-3',  '2015-4',  '2015-5',\n",
       "  '2015-6',  '2015-7',  '2015-8',  '2015-9',  '2015-10',\n",
       "  '2015-11', '2015-12', '2016-1',  '2016-2',  '2016-3',\n",
       "  '2016-4',  '2016-5',  '2016-6',  '2016-7',  '2016-8',\n",
       "  '2016-9',  '2016-10', '2016-11', '2016-12', '2017-1',\n",
       "  '2017-2',  '2017-3',  '2017-4',  '2017-5',  '2017-6',\n",
       "  '2017-7',  '2017-8',  '2017-9',  '2017-10', '2017-11',\n",
       "  '2017-12', '2018-1',  '2018-2',  '2018-3',  '2018-4',\n",
       "  '2018-5',  '2018-6',  '2018-7',  '2018-8',  '2018-9',\n",
       "  '2018-10', '2018-11', '2018-12', '2019-1',  '2019-2',\n",
       "  '2019-3',  '2019-4',  '2019-5',  '2019-6',  '2019-7',\n",
       "  '2019-8',  '2019-9',  '2019-10', '2019-11', '2019-12',\n",
       "  '2020-1',  '2020-2',  '2020-3',  '2020-4',  '2020-5',\n",
       "  '2020-6',  '2020-7',  '2020-8',  '2020-9',  '2020-10',\n",
       "  '2020-11', '2020-12', '2021-1',  '2021-2',  '2021-3',\n",
       "  '2021-4',  '2021-5',  '2021-6',  '2021-7',  '2021-8',\n",
       "  '2021-9',  '2021-10', '2021-11', '2021-12'\n",
       "]"
      ]
     },
     "execution_count": 9,
     "metadata": {},
     "output_type": "execute_result"
    }
   ],
   "source": [
    "var startYear = 2015, endYear = 2021; var startMonth = 1, endMonth = 12;\n",
    "var years = [], months = [];\n",
    "for (let i = startYear; i <= endYear; i++) {\n",
    "    years[i - startYear] = i;\n",
    "}\n",
    "for (let i = startMonth; i <= endMonth; i++) {\n",
    "    months[i - startMonth] = i;\n",
    "}\n",
    "var yms = []\n",
    "for(let i = 0; i < years.length; i++) {\n",
    "    for (let j = 0; j < months.length; j++) {\n",
    "        yms.push({'y': years[i], 'm': months[j]});\n",
    "    }\n",
    "}\n",
    "yms_axis = yms.map(item => item['y'].toString() + '-' + item['m'].toString())"
   ]
  },
  {
   "cell_type": "code",
   "execution_count": null,
   "id": "1b83dad3-8ee3-45be-a08d-416ee6b1358f",
   "metadata": {},
   "outputs": [],
   "source": [
    "Promise.all(yms.map(ym => {\n",
    "    var q = `\n",
    "            select count(CASE when repo_id = '22542579' and type = 'IssuesEvent' and action = 'opened' and toYear(created_at) = ${ym['y']} and toMonth(created_at) = ${ym['m']} THEN 1 ELSE NULL END) as createIssue,\n",
    "            count(CASE when repo_id = '22542579' and type = 'IssuesEvent' and action = 'closed' and toYear(created_at) = ${ym['y']} and toMonth(created_at) = ${ym['m']} THEN 1 ELSE NULL END) as closeIssue\n",
    "            from github_log.events\n",
    "            `\n",
    "    return query(q);\n",
    "})).then(data => {\n",
    "    var createIssueCount = [], closeIssueCount = [],tableDict = [];\n",
    "    data.forEach((d, i) => {\n",
    "        createIssueCount.push(d[0].createIssue);\n",
    "        closeIssueCount.push(d[0].closeIssue);\n",
    "        tableDict.push({'ym': yms_axis[i], 'createIssue': createIssueCount[createIssueCount.length-1], 'closeIssue': closeIssueCount[closeIssueCount.length-1]});\n",
    "    });\n",
    "    openDigger.render.plotly([\n",
    "        {x: yms_axis, y: createIssueCount, mode: 'scatter', name: '每月打开issue数量'},\n",
    "        {x: yms_axis, y: closeIssueCount, mode: 'scatter', name: '每月关闭Issue数量'},\n",
    "    ], {\n",
    "        title: '每月打开 Issue 和 关闭 Issue 的个数',\n",
    "    });\n",
    "    console.table(tableDict.map((d) => {\n",
    "        return {\n",
    "            '日期': d.ym,\n",
    "            '打开Issue数量': d.createIssue,\n",
    "            '关闭Issue数量': d.closeIssue,\n",
    "        };\n",
    "    }));\n",
    "})"
   ]
  },
  {
   "cell_type": "code",
   "execution_count": 20,
   "id": "8b4eb2e1-78b3-4c36-b994-9056bfd17acd",
   "metadata": {},
   "outputs": [
    {
     "name": "stdout",
     "output_type": "stream",
     "text": [
      "[ { issue_avg: null, issue_mid: null } ]\n"
     ]
    }
   ],
   "source": [
    "query(\n",
    "    `select avg(issue_days) as issue_avg,median(issue_days) as issue_mid\n",
    "    from(\n",
    "    select toRelativeDayNum(issue_closed_at)-toRelativeDayNum(issue_created_at) as issue_days \n",
    "    from github_log.events where repo_id='22542579' and type='IssuesEvent'\n",
    "    )`\n",
    ").then(res=>{    console.log(res);});"
   ]
  },
  {
   "cell_type": "code",
   "execution_count": null,
   "id": "a12ac96b-d1d3-4c54-8ade-93d050dec99e",
   "metadata": {},
   "outputs": [],
   "source": []
  }
 ],
 "metadata": {
  "kernelspec": {
   "display_name": "JavaScript (Node.js)",
   "language": "javascript",
   "name": "javascript"
  },
  "language_info": {
   "file_extension": ".js",
   "mimetype": "application/javascript",
   "name": "javascript",
   "version": "16.13.2"
  }
 },
 "nbformat": 4,
 "nbformat_minor": 5
}

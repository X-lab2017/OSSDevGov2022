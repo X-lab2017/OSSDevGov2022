{
 "cells": [
  {
   "cell_type": "code",
   "execution_count": 1,
   "id": "b81aeb71-ccaa-4b40-b5fd-c136191e776d",
   "metadata": {},
   "outputs": [],
   "source": [
    "var openDigger = require('../src/open_digger');\n",
    "var year=2015"
   ]
  },
  {
   "cell_type": "code",
   "execution_count": 2,
   "id": "eda3edb2-f452-4725-8df7-f78be7228af1",
   "metadata": {},
   "outputs": [
    {
     "name": "stdout",
     "output_type": "stream",
     "text": [
      "[\n",
      "  { name: '_temporary_and_external_tables' },\n",
      "  { name: 'default' },\n",
      "  { name: 'github_log' },\n",
      "  { name: 'system' }\n",
      "]\n"
     ]
    }
   ],
   "source": [
    "var query = openDigger.driver.clickhouse.query;query(    `SHOW DATABASES`).then(res=>{    console.log(res);})\n"
   ]
  },
  {
   "cell_type": "code",
   "execution_count": 3,
   "id": "045e9776-bd30-4321-8fc2-8029dc7377ad",
   "metadata": {},
   "outputs": [
    {
     "name": "stdout",
     "output_type": "stream",
     "text": [
      "[\n",
      "  { name: 'year2015' },\n",
      "  { name: 'year2016' },\n",
      "  { name: 'year2017' },\n",
      "  { name: 'year2018' },\n",
      "  { name: 'year2019' },\n",
      "  { name: 'year2020' },\n",
      "  { name: 'year2021' },\n",
      "  { name: 'year2022' }\n",
      "]\n"
     ]
    }
   ],
   "source": [
    "query(    `SHOW TABLES from github_log`).then(res=>{    console.log(res);})"
   ]
  },
  {
   "cell_type": "code",
   "execution_count": null,
   "id": "6734418a-9abb-49e5-9c7a-5dce06a29fcd",
   "metadata": {},
   "outputs": [],
   "source": [
    "\n",
    "query(   \n",
    "`\n",
    "    select *  \n",
    "from github_log.year${year} \n",
    "where repo_name='angular/angular.js'\n",
    "`) .then(res=>{    console.log(res);});"
   ]
  },
  {
   "cell_type": "code",
   "execution_count": 26,
   "id": "a49e34ac-09a3-402f-a414-5b94bb23cdc6",
   "metadata": {},
   "outputs": [
    {
     "name": "stdout",
     "output_type": "stream",
     "text": [
      "[\n",
      "  { month: 1, stars: 34765, forks: 13929 },\n",
      "  { month: 2, stars: 35720, forks: 14546 },\n",
      "  { month: 3, stars: 36924, forks: 15262 },\n",
      "  { month: 4, stars: 38069, forks: 15937 },\n",
      "  { month: 5, stars: 39148, forks: 16583 },\n",
      "  { month: 6, stars: 40240, forks: 17293 },\n",
      "  { month: 7, stars: 41195, forks: 17984 },\n",
      "  { month: 8, stars: 42102, forks: 18663 },\n",
      "  { month: 9, stars: 42902, forks: 19294 },\n",
      "  { month: 10, stars: 43797, forks: 19848 },\n",
      "  { month: 11, stars: 44698, forks: 20478 },\n",
      "  { month: 12, stars: 45604, forks: 21075 }\n",
      "]\n"
     ]
    }
   ],
   "source": [
    "// 第一题\n",
    "query(\n",
    "`\n",
    "select toMonth(created_at) as month, max(repo_stargazers_count)as stars, max(repo_forks_count) as forks\n",
    "from(\n",
    "select created_at,repo_stargazers_count, repo_forks_count from github_log.year${year}\n",
    "where repo_name = 'angular/angular.js'\n",
    "and toYear(issue_created_at) = 2015\n",
    ")group by month\n",
    "`) .then(res=>{    console.log(res);});"
   ]
  },
  {
   "cell_type": "code",
   "execution_count": null,
   "id": "1725bdea-1ba4-47e3-a2ce-22b27e66d764",
   "metadata": {},
   "outputs": [],
   "source": []
  },
  {
   "cell_type": "code",
   "execution_count": 17,
   "id": "21530617-5dcf-44d3-bc4c-9e752c1e5b83",
   "metadata": {},
   "outputs": [
    {
     "name": "stdout",
     "output_type": "stream",
     "text": [
      "[\n",
      "  { month: 1, openIssueCnt: '311' },\n",
      "  { month: 2, openIssueCnt: '288' },\n",
      "  { month: 3, openIssueCnt: '262' },\n",
      "  { month: 4, openIssueCnt: '309' },\n",
      "  { month: 5, openIssueCnt: '209' },\n",
      "  { month: 6, openIssueCnt: '259' },\n",
      "  { month: 7, openIssueCnt: '230' },\n",
      "  { month: 8, openIssueCnt: '248' },\n",
      "  { month: 9, openIssueCnt: '258' },\n",
      "  { month: 10, openIssueCnt: '233' },\n",
      "  { month: 11, openIssueCnt: '201' },\n",
      "  { month: 12, openIssueCnt: '241' }\n",
      "]\n"
     ]
    }
   ],
   "source": [
    "// 第2题 每月打开的issue\n",
    "query(\n",
    "`\n",
    "select toMonth(issue_created_at) as month, count(*) as openIssueCnt from(\n",
    "select distinct issue_created_at from github_log.year${year}\n",
    "where repo_name = 'angular/angular.js'\n",
    "and toYear(issue_created_at) = 2015\n",
    ")group by month\n",
    "`\n",
    ") .then(res=>{    console.log(res);});\n",
    "\n"
   ]
  },
  {
   "cell_type": "code",
   "execution_count": 16,
   "id": "c1be9236-4aa4-44b5-b44d-ba088ca68c46",
   "metadata": {},
   "outputs": [
    {
     "name": "stdout",
     "output_type": "stream",
     "text": [
      "[\n",
      "  { month: 1, closeIssueCnt: '344' },\n",
      "  { month: 2, closeIssueCnt: '218' },\n",
      "  { month: 3, closeIssueCnt: '222' },\n",
      "  { month: 4, closeIssueCnt: '227' },\n",
      "  { month: 5, closeIssueCnt: '152' },\n",
      "  { month: 6, closeIssueCnt: '278' },\n",
      "  { month: 7, closeIssueCnt: '172' },\n",
      "  { month: 8, closeIssueCnt: '209' },\n",
      "  { month: 9, closeIssueCnt: '286' },\n",
      "  { month: 10, closeIssueCnt: '203' },\n",
      "  { month: 11, closeIssueCnt: '187' },\n",
      "  { month: 12, closeIssueCnt: '175' }\n",
      "]\n"
     ]
    }
   ],
   "source": [
    "// 第2题 每月关闭的issue\n",
    "query(\n",
    "`\n",
    "select toMonth(issue_closed_at) as month, count(*) as closeIssueCnt from(\n",
    "select distinct issue_closed_at from github_log.year${year}\n",
    "where repo_name = 'angular/angular.js'\n",
    "and toYear(issue_closed_at) = 2015\n",
    ")group by month\n",
    "`\n",
    ") .then(res=>{    console.log(res);});\n"
   ]
  },
  {
   "cell_type": "code",
   "execution_count": 249,
   "id": "28bc34e3-bf88-4822-ae24-009f485c2e2e",
   "metadata": {},
   "outputs": [
    {
     "name": "stdout",
     "output_type": "stream",
     "text": [
      "[\n",
      "  { month: 1, openPrCnt: '311' },\n",
      "  { month: 2, openPrCnt: '209' },\n",
      "  { month: 3, openPrCnt: '213' },\n",
      "  { month: 4, openPrCnt: '247' },\n",
      "  { month: 5, openPrCnt: '164' },\n",
      "  { month: 6, openPrCnt: '213' },\n",
      "  { month: 7, openPrCnt: '158' },\n",
      "  { month: 8, openPrCnt: '196' },\n",
      "  { month: 9, openPrCnt: '260' },\n",
      "  { month: 10, openPrCnt: '213' },\n",
      "  { month: 11, openPrCnt: '155' },\n",
      "  { month: 12, openPrCnt: '197' }\n",
      "]\n"
     ]
    }
   ],
   "source": [
    "// 第三题\n",
    "// 每月打开 PR个数\n",
    "\n",
    "query(\n",
    "`\n",
    "select toMonth(created_at) as month, count(*) as openPrCnt from (\n",
    "    select distinct created_at from github_log.year${year}\n",
    "    where repo_name = 'angular/angular.js' \n",
    "    and type='PullRequestEvent'\n",
    "    having toYear(created_at) = 2015\n",
    ")\n",
    "group by month\n",
    "`\n",
    ") .then(res=>{    console.log(res);});\n",
    "\n",
    "\n",
    "\n",
    "\n",
    "\n"
   ]
  },
  {
   "cell_type": "code",
   "execution_count": 239,
   "id": "8169ec0c-15e2-4fa5-a9bf-7de0b87fbd89",
   "metadata": {},
   "outputs": [
    {
     "name": "stdout",
     "output_type": "stream",
     "text": [
      "[\n",
      "  { month: 1, prMergedCnt: '4' },\n",
      "  { month: 2, prMergedCnt: '4' },\n",
      "  { month: 3, prMergedCnt: '3' },\n",
      "  { month: 4, prMergedCnt: '6' },\n",
      "  { month: 5, prMergedCnt: '4' },\n",
      "  { month: 6, prMergedCnt: '1' },\n",
      "  { month: 7, prMergedCnt: '3' },\n",
      "  { month: 9, prMergedCnt: '7' },\n",
      "  { month: 10, prMergedCnt: '3' },\n",
      "  { month: 11, prMergedCnt: '4' },\n",
      "  { month: 12, prMergedCnt: '6' }\n",
      "]\n"
     ]
    }
   ],
   "source": [
    "// 第3题\n",
    "\n",
    "\n",
    "// 每月pr合入个数\n",
    "query(\n",
    "`\n",
    "select toMonth(pull_merged_at) as month , count(*) as prMergedCnt from github_log.year${year}\n",
    "where repo_name = 'angular/angular.js' \n",
    "group by month\n",
    "having toYear(pull_merged_at) =2015\n",
    "`\n",
    ") .then(res=>{    console.log(res);});\n"
   ]
  },
  {
   "cell_type": "code",
   "execution_count": 275,
   "id": "e75db3ae-a4ad-4b8d-aac0-c79c996c8022",
   "metadata": {},
   "outputs": [
    {
     "name": "stdout",
     "output_type": "stream",
     "text": [
      "[\n",
      "  { month: 1, num: '2551' },\n",
      "  { month: 2, num: '2270' },\n",
      "  { month: 3, num: '2733' },\n",
      "  { month: 4, num: '2626' },\n",
      "  { month: 5, num: '2365' },\n",
      "  { month: 6, num: '2535' },\n",
      "  { month: 7, num: '2351' },\n",
      "  { month: 8, num: '2318' },\n",
      "  { month: 9, num: '2164' },\n",
      "  { month: 10, num: '2162' },\n",
      "  { month: 11, num: '2192' },\n",
      "  { month: 12, num: '2125' }\n",
      "]\n"
     ]
    }
   ],
   "source": [
    "// 第4题\n",
    "\n",
    "//活跃人数\n",
    "query(\n",
    "    \n",
    "`\n",
    "select month, count(*) as num from\n",
    "(\n",
    "select distinct toMonth(created_at) as month , actor_id from github_log.year${year}\n",
    "where repo_name = 'angular/angular.js' \n",
    ")group by month\n",
    "\n",
    "`\n",
    ") .then(res=>{    console.log(res);});\n",
    "\n",
    "\n"
   ]
  },
  {
   "cell_type": "code",
   "execution_count": 111,
   "id": "e6e6be52-9358-404f-8f88-410fabbbf3f2",
   "metadata": {},
   "outputs": [
    {
     "name": "stdout",
     "output_type": "stream",
     "text": [
      "[ { average_day: 8860 } ]\n",
      "[ { median_day: 16335 } ]\n"
     ]
    }
   ],
   "source": [
    "// 第5题 Issue从打开到关闭的平均时长和中位数（单位：天）\n",
    "//平均\n",
    "query(\n",
    "`\n",
    "select toInt16(avg(day)) as average_day from(\n",
    "select issue_id,abs(dateDiff('day', issue_created_at, issue_closed_at)) AS day from github_log.year${year}\n",
    "where repo_name = 'angular/angular.js' \n",
    "group by issue_id,issue_created_at,issue_closed_at) \n",
    "`\n",
    ") .then(res=>{    console.log(res);});\n",
    "\n",
    "//中位数\n",
    "query(\n",
    "`\n",
    "select toInt16(median(day)) as median_day from(\n",
    "select issue_id,abs(dateDiff('day', issue_created_at, issue_closed_at)) AS day from github_log.year${year}\n",
    "where repo_name = 'angular/angular.js' \n",
    "group by issue_id,issue_created_at,issue_closed_at) \n",
    "`\n",
    ") .then(res=>{    console.log(res);});\n"
   ]
  },
  {
   "cell_type": "code",
   "execution_count": 332,
   "id": "ab9aa562-5da8-451f-9313-a3dfb4bfca66",
   "metadata": {},
   "outputs": [
    {
     "name": "stdout",
     "output_type": "stream",
     "text": [
      "[ { avg_day: 16270 } ]\n",
      "[ { median_day: 16594 } ]\n"
     ]
    }
   ],
   "source": [
    "// 第6题\n",
    "//平均时长\n",
    "query(\n",
    "`\n",
    "select toInt16(avg(day)) as avg_day from\n",
    "(select distinct issue_id,abs(dateDiff('day', pull_merged_at, created_at)) AS day from github_log.year${year}\n",
    "where repo_name = 'angular/angular.js' \n",
    "and type = 'PullRequestEvent'\n",
    ")\n",
    "\n",
    "`\n",
    ") .then(res=>{    console.log(res);});\n",
    "\n",
    "\n",
    "//中位数\n",
    "query(\n",
    "`\n",
    "select toInt16(median(day)) as median_day from\n",
    "(select distinct issue_id,abs(dateDiff('day', pull_merged_at, created_at)) AS day from github_log.year${year}\n",
    "where repo_name = 'angular/angular.js' \n",
    "and type = 'PullRequestEvent'\n",
    ")\n",
    "\n",
    "`\n",
    ") .then(res=>{    console.log(res);});\n"
   ]
  },
  {
   "cell_type": "code",
   "execution_count": 340,
   "id": "4996c2ce-a92b-4771-a329-56aa92fb6168",
   "metadata": {},
   "outputs": [
    {
     "name": "stdout",
     "output_type": "stream",
     "text": [
      "[ { median_day: 0 } ]\n",
      "[ { avg_day: 109 } ]\n"
     ]
    }
   ],
   "source": [
    "// 第7题\n",
    "\n",
    "\n",
    "// issue从打开到第一次有人回复（非本人回复）的平均时长\n",
    "query(\n",
    "    \n",
    "`\n",
    "select toInt16(avg(day)) as avg_day from\n",
    "(\n",
    "select issue_id,min(abs(dateDiff('day', issue_comment_created_at, issue_created_at))) as day  from github_log.year${year}\n",
    "where repo_name = 'angular/angular.js' and issue_id != 0\n",
    "group by issue_id\n",
    "having toYear(issue_comment_created_at) != 1970\n",
    ")\n",
    "`\n",
    ") .then(res=>{    console.log(res);});\n",
    "\n",
    "// issue从打开到第一次有人回复（非本人回复）的中位数\n",
    "\n",
    "query(\n",
    "    \n",
    "`\n",
    "select toInt16(median(day)) as median_day from\n",
    "(\n",
    "select issue_id,min(abs(dateDiff('day', issue_comment_created_at, issue_created_at))) as day  from github_log.year${year}\n",
    "where repo_name = 'angular/angular.js' and issue_id != 0\n",
    "group by issue_id\n",
    "having toYear(issue_comment_created_at) != 1970\n",
    ")\n",
    "`\n",
    ") .then(res=>{    console.log(res);});\n"
   ]
  },
  {
   "cell_type": "code",
   "execution_count": 339,
   "id": "97cc6c28-f648-4c51-87ed-c57ba69f3e09",
   "metadata": {},
   "outputs": [
    {
     "name": "stdout",
     "output_type": "stream",
     "text": [
      "[ { median_day: 16541 } ]\n",
      "[ { avg_day: 16486 } ]\n"
     ]
    }
   ],
   "source": [
    "// 第7题\n",
    "\n",
    "\n",
    "// pr从打开到第一次有人回复（非本人回复）的平均时长\n",
    "query(\n",
    "    \n",
    "`\n",
    "select toInt16(avg(day)) as avg_day from\n",
    "(\n",
    "select issue_id,min(abs(dateDiff('day', pull_review_comment_created_at, issue_created_at))) as day  from github_log.year${year}\n",
    "where repo_name = 'angular/angular.js' and issue_id != 0\n",
    "group by issue_id\n",
    "having toYear(issue_comment_created_at) != 1970\n",
    ")\n",
    "`\n",
    ") .then(res=>{    console.log(res);});\n",
    "\n",
    "// pr从打开到第一次有人回复（非本人回复）的中位数\n",
    "\n",
    "query(\n",
    "    \n",
    "`\n",
    "select toInt16(median(day)) as median_day from\n",
    "(\n",
    "select issue_id,min(abs(dateDiff('day', pull_review_comment_created_at, issue_created_at))) as day  from github_log.year${year}\n",
    "where repo_name = 'angular/angular.js' and issue_id != 0\n",
    "group by issue_id\n",
    "having toYear(issue_comment_created_at) != 1970\n",
    ")\n",
    "`\n",
    ") .then(res=>{    console.log(res);});"
   ]
  },
  {
   "cell_type": "code",
   "execution_count": null,
   "id": "e5204ad0-1ac0-41ff-a723-070c31ed8770",
   "metadata": {},
   "outputs": [],
   "source": [
    "query(\n",
    "    \n",
    "`\n",
    "select *  from github_log.year${year}\n",
    "where repo_name = 'angular/angular.js' and issue_id != 0\n",
    "group by issue_id\n",
    "having toYear(issue_comment_created_at) != 1970\n",
    ")\n",
    "`\n",
    ") .then(res=>{    console.log(res);});"
   ]
  }
 ],
 "metadata": {
  "kernelspec": {
   "display_name": "JavaScript (Node.js)",
   "language": "javascript",
   "name": "javascript"
  },
  "language_info": {
   "file_extension": ".js",
   "mimetype": "application/javascript",
   "name": "javascript",
   "version": "16.13.2"
  }
 },
 "nbformat": 4,
 "nbformat_minor": 5
}

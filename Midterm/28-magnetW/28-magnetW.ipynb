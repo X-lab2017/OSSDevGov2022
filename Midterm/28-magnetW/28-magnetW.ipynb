{
 "cells": [
  {
   "cell_type": "code",
   "execution_count": null,
   "id": "6e64d2ec",
   "metadata": {},
   "outputs": [],
   "source": [
    "项目ID：28\n",
    "项目名称：magnetW\n",
    "小组成员：徐志臻 王聪聪"
   ]
  },
  {
   "cell_type": "code",
   "execution_count": null,
   "id": "5f0f38ef-3f80-404b-8ea4-f5911778d7b6",
   "metadata": {},
   "outputs": [],
   "source": [
    "# 项目的基本背景和发展历程介绍\n",
    "\n",
    "## 技术类型\n",
    "\n",
    "magnetW是一个磁力搜索聚合工具。 magnetW通过访问并解析各大磁力链接搜索网站的结果，实现磁力搜索结果聚合的功能，并通过electron-vue实现跨平台应用。除此之外，magnetW还支持根据规则的过滤/搜索，以及使用代理访问磁力搜索结果等功能。\n",
    "\n",
    "## 版本发布历史\n",
    "\n",
    "GITHUB上有三个版本发布记录：\n",
    "\n",
    "1. [3.0.0](https://github.com/xiandanin/magnetW/releases/tag/3.0.0)\n",
    "   1. 发布软件\n",
    "2. [3.1.0](https://github.com/xiandanin/magnetW/releases/tag/3.1.0)\n",
    "   1. 更新了解析规则\n",
    "   2. 增强了解析器\n",
    "   3. 支持二级页面的源站\n",
    "   4. 增加云解析功能\n",
    "   5. 增加了一些菜单和设置\n",
    "   6. 支持选择安装位置\n",
    "3. [3.1.1](https://github.com/xiandanin/magnetW/releases/tag/3.1.1) \n",
    "   1. 更新了一批规则\n",
    "   2. 支持Socks5代理（#68 #79 ）\n",
    "   3. 支持macOS仅关闭窗口不退出应用\n",
    "   4. 支持自动分配和自定义端口\n",
    "   5. 修复了解析器的一些问题\n",
    "\n",
    "## 主要贡献者的构成（国家、区域和组织等）\n",
    "\n",
    "1. [xiandanin](https://github.com/xiandanin)：项目的所有者，贡献了绝大多数代码\n",
    "2. [JsonHive](https://github.com/xiandanin/magnetW/issues?q=is%3Apr+author%3AJsonHive)：提交了一个PR，修复了默认package.json中的一个参数\n",
    "3. [ggymm](https://github.com/xiandanin/magnetW/issues?q=is%3Apr+author%3Aggymm):提交了一个PR，修改了安装位置\n",
    "4. \n",
    "\n",
    "## CI/CD 的使用\n",
    "\n",
    "无"
   ]
  },
  {
   "cell_type": "markdown",
   "id": "967452be-cad5-475e-8439-74688a3b7438",
   "metadata": {},
   "source": [
    "# 项目的历史轨迹分析"
   ]
  },
  {
   "cell_type": "code",
   "execution_count": 1,
   "id": "f3f88515-b69e-49c3-a3e9-d2caf3ec9c68",
   "metadata": {},
   "outputs": [],
   "source": [
    "var openDigger = require('../src/open_digger');"
   ]
  },
  {
   "cell_type": "code",
   "execution_count": 229,
   "id": "4e60fae8-6673-4643-a563-094a88dff11f",
   "metadata": {},
   "outputs": [],
   "source": [
    "function middle(args){\n",
    "   args.sort() //排序\n",
    "   if(args.length%2===0){ \n",
    "       return ((args[args.length/2]+args[args.length/2-1])/2);\n",
    "   }else{\n",
    "       return args[parseInt(args.length/2)];\n",
    "  }\n",
    "}\n",
    "\n",
    "function average(nums) {\n",
    "    return nums.reduce((a, b) => a + b) / nums.length;\n",
    "}"
   ]
  },
  {
   "cell_type": "code",
   "execution_count": 88,
   "id": "5ad3084e-4081-4f6f-ab08-59e38d498533",
   "metadata": {},
   "outputs": [
    {
     "name": "stdout",
     "output_type": "stream",
     "text": [
      "[\n",
      "  { 'count()': '89', 'toMonth(created_at)': 1 },\n",
      "  { 'count()': '92', 'toMonth(created_at)': 2 },\n",
      "  { 'count()': '108', 'toMonth(created_at)': 3 },\n",
      "  { 'count()': '49', 'toMonth(created_at)': 4 }\n",
      "]\n"
     ]
    }
   ],
   "source": [
    "query(\n",
    "    `SELECT count(*),toMonth(created_at)\n",
    "    FROM github_log.year${year}\n",
    "    WHERE repo_name = 'xiandanin/magnetW' and type = 'WatchEvent'\n",
    "    GROUP BY toMonth(created_at)\n",
    "    LIMIT ${limit}`\n",
    ").then(res=>{console.log(res);})"
   ]
  },
  {
   "cell_type": "code",
   "execution_count": 151,
   "id": "9d5c127f-9e80-4095-8693-1360ef888448",
   "metadata": {},
   "outputs": [
    {
     "data": {
      "text/plain": [
       "[ undefined, undefined, undefined, undefined, undefined ]"
      ]
     },
     "execution_count": 151,
     "metadata": {},
     "output_type": "execute_result"
    }
   ],
   "source": [
    "var startYear = 2018, endYear = 2022;\n",
    "var years = [];\n",
    "var all = [];\n",
    "for (var y = startYear; y <= endYear; y++) years.push(y);\n",
    "Promise.all(years.map(year => {\n",
    "    return openDigger.driver.clickhouse.query(`SELECT count(*) as star,toMonth(created_at) as month,max(toYear(created_at)) as year\n",
    "    FROM github_log.year${year}\n",
    "    WHERE repo_name = 'xiandanin/magnetW' and type = 'WatchEvent'\n",
    "    GROUP BY toMonth(created_at)\n",
    "    LIMIT ${limit}`\n",
    ").then(res=>{\n",
    "        all.push.apply(all,res)\n",
    "    });\n",
    "}))\n"
   ]
  },
  {
   "cell_type": "code",
   "execution_count": 153,
   "id": "dbafd50e-fa3d-47bf-99bf-cc4a725e92cc",
   "metadata": {},
   "outputs": [
    {
     "data": {
      "text/plain": [
       "[\n",
       "  { star: '41', month: 11, year: 2019 },\n",
       "  { star: '1735', month: 12, year: 2019 },\n",
       "  { star: '1206', month: 1, year: 2020 },\n",
       "  { star: '455', month: 2, year: 2020 },\n",
       "  { star: '315', month: 3, year: 2020 },\n",
       "  { star: '239', month: 4, year: 2020 },\n",
       "  { star: '193', month: 5, year: 2020 },\n",
       "  { star: '846', month: 6, year: 2020 },\n",
       "  { star: '387', month: 7, year: 2020 },\n",
       "  { star: '200', month: 8, year: 2020 },\n",
       "  { star: '137', month: 9, year: 2020 },\n",
       "  { star: '135', month: 10, year: 2020 },\n",
       "  { star: '162', month: 11, year: 2020 },\n",
       "  { star: '457', month: 12, year: 2020 },\n",
       "  { star: '241', month: 1, year: 2021 },\n",
       "  { star: '216', month: 2, year: 2021 },\n",
       "  { star: '151', month: 3, year: 2021 },\n",
       "  { star: '162', month: 4, year: 2021 },\n",
       "  { star: '100', month: 5, year: 2021 },\n",
       "  { star: '111', month: 6, year: 2021 },\n",
       "  { star: '1210', month: 7, year: 2021 },\n",
       "  { star: '375', month: 8, year: 2021 },\n",
       "  { star: '128', month: 9, year: 2021 },\n",
       "  { star: '51', month: 10, year: 2021 },\n",
       "  { star: '136', month: 11, year: 2021 },\n",
       "  { star: '147', month: 12, year: 2021 },\n",
       "  { star: '89', month: 1, year: 2022 },\n",
       "  { star: '92', month: 2, year: 2022 },\n",
       "  { star: '108', month: 3, year: 2022 },\n",
       "  { star: '49', month: 4, year: 2022 }\n",
       "]"
      ]
     },
     "execution_count": 153,
     "metadata": {},
     "output_type": "execute_result"
    }
   ],
   "source": [
    "all.sort((a,b)=>{\n",
    "    return 12*a.year+a.month-12*b.year-b.month\n",
    "})"
   ]
  },
  {
   "cell_type": "code",
   "execution_count": 154,
   "id": "cfed4ca8-302b-4870-bf00-90d94b7c2ede",
   "metadata": {},
   "outputs": [
    {
     "data": {
      "application/vnd.plotly.v1+json": {
       "data": [
        {
         "mode": "scatter",
         "name": "新增star",
         "x": [
          "2019-11",
          "2019-12",
          "2020-1",
          "2020-2",
          "2020-3",
          "2020-4",
          "2020-5",
          "2020-6",
          "2020-7",
          "2020-8",
          "2020-9",
          "2020-10",
          "2020-11",
          "2020-12",
          "2021-1",
          "2021-2",
          "2021-3",
          "2021-4",
          "2021-5",
          "2021-6",
          "2021-7",
          "2021-8",
          "2021-9",
          "2021-10",
          "2021-11",
          "2021-12",
          "2022-1",
          "2022-2",
          "2022-3",
          "2022-4"
         ],
         "y": [
          "41",
          "1735",
          "1206",
          "455",
          "315",
          "239",
          "193",
          "846",
          "387",
          "200",
          "137",
          "135",
          "162",
          "457",
          "241",
          "216",
          "151",
          "162",
          "100",
          "111",
          "1210",
          "375",
          "128",
          "51",
          "136",
          "147",
          "89",
          "92",
          "108",
          "49"
         ]
        }
       ],
       "layout": {
        "autosize": true,
        "title": {
         "text": "每月新增star"
        },
        "xasix": {
         "type": "category"
        },
        "xaxis": {
         "autorange": true,
         "range": [
          "2019-11-01",
          "2022-04-01"
         ],
         "type": "date"
        },
        "yaxis": {
         "autorange": true,
         "range": [
          -53.1111111111111,
          1829.111111111111
         ],
         "type": "linear"
        }
       }
      },
      "image/png": "[encoded data removed]"
     },
     "execution_count": 154,
     "metadata": {},
     "output_type": "execute_result"
    }
   ],
   "source": [
    "openDigger.render.plotly([{\n",
    "        x: all.map(d => d.year.toString()+'-'+d.month.toString()),\n",
    "        y: all.map(d => d.star),\n",
    "        name: '新增star',mode: 'scatter'\n",
    "    }], {title: `每月新增star`, xasix: { type: 'category' } })"
   ]
  },
  {
   "cell_type": "code",
   "execution_count": 157,
   "id": "e93e73b3-d673-40a1-a4c1-4755052f0ff2",
   "metadata": {},
   "outputs": [
    {
     "data": {
      "text/plain": [
       "[ undefined, undefined, undefined, undefined, undefined ]"
      ]
     },
     "execution_count": 157,
     "metadata": {},
     "output_type": "execute_result"
    }
   ],
   "source": [
    "var startYear = 2018, endYear = 2022;\n",
    "var years = [];\n",
    "var all = [];\n",
    "for (var y = startYear; y <= endYear; y++) years.push(y);\n",
    "Promise.all(years.map(year => {\n",
    "    return openDigger.driver.clickhouse.query(`SELECT count(*) as count,toMonth(created_at) as month,max(toYear(created_at)) as year\n",
    "    FROM github_log.year${year}\n",
    "    WHERE repo_name = 'xiandanin/magnetW' and type = 'ForkEvent'\n",
    "    GROUP BY toMonth(created_at)\n",
    "    LIMIT ${limit}`\n",
    ").then(res=>{\n",
    "        all.push.apply(all,res)\n",
    "    });\n",
    "}))"
   ]
  },
  {
   "cell_type": "code",
   "execution_count": 159,
   "id": "40c4e98b-10bb-4fe3-bc44-3e88f71f2e73",
   "metadata": {},
   "outputs": [
    {
     "data": {
      "application/vnd.plotly.v1+json": {
       "data": [
        {
         "mode": "scatter",
         "name": "新增fork",
         "x": [
          "2019-11",
          "2019-12",
          "2020-1",
          "2020-2",
          "2020-3",
          "2020-4",
          "2020-5",
          "2020-6",
          "2020-7",
          "2020-8",
          "2020-9",
          "2020-10",
          "2020-11",
          "2020-12",
          "2021-1",
          "2021-2",
          "2021-3",
          "2021-4",
          "2021-5",
          "2021-6",
          "2021-7",
          "2021-8",
          "2021-9",
          "2021-10",
          "2021-11",
          "2021-12",
          "2022-1",
          "2022-2",
          "2022-3",
          "2022-4"
         ],
         "y": [
          "15",
          "201",
          "159",
          "93",
          "54",
          "47",
          "31",
          "133",
          "77",
          "35",
          "26",
          "26",
          "25",
          "48",
          "28",
          "28",
          "30",
          "26",
          "20",
          "20",
          "186",
          "52",
          "22",
          "13",
          "19",
          "17",
          "20",
          "21",
          "24",
          "17"
         ]
        }
       ],
       "layout": {
        "autosize": true,
        "title": {
         "text": "每月新增fork"
        },
        "xasix": {
         "type": "category"
        },
        "xaxis": {
         "autorange": true,
         "range": [
          "2019-11-01",
          "2022-04-01"
         ],
         "type": "date"
        },
        "yaxis": {
         "autorange": true,
         "range": [
          2.5555555555555554,
          211.44444444444446
         ],
         "type": "linear"
        }
       }
      },
      "image/png": "[encoded data removed]"
     },
     "execution_count": 159,
     "metadata": {},
     "output_type": "execute_result"
    }
   ],
   "source": [
    "all.sort((a,b)=>{\n",
    "    return 12*a.year+a.month-12*b.year-b.month\n",
    "})\n",
    "openDigger.render.plotly([{\n",
    "        x: all.map(d => d.year.toString()+'-'+d.month.toString()),\n",
    "        y: all.map(d => d.count),\n",
    "        name: '新增fork',mode: 'scatter'\n",
    "    }], {title: `每月新增fork`, xasix: { type: 'category' } })"
   ]
  },
  {
   "cell_type": "code",
   "execution_count": 161,
   "id": "cb67ddfb-0386-429f-91e7-56ecab84cbb2",
   "metadata": {},
   "outputs": [
    {
     "data": {
      "text/plain": [
       "[ undefined, undefined, undefined, undefined, undefined ]"
      ]
     },
     "execution_count": 161,
     "metadata": {},
     "output_type": "execute_result"
    }
   ],
   "source": [
    "var startYear = 2018, endYear = 2022;\n",
    "var years = [];\n",
    "var all = [];\n",
    "for (var y = startYear; y <= endYear; y++) years.push(y);\n",
    "Promise.all(years.map(year => {\n",
    "    return openDigger.driver.clickhouse.query(`SELECT count(*) as count,toMonth(issue_created_at) as month,max(toYear(issue_created_at)) as year\n",
    "    FROM github_log.year${year}\n",
    "    WHERE repo_name = 'xiandanin/magnetW' and type = 'IssuesEvent'\n",
    "    GROUP BY toMonth(issue_created_at)\n",
    "    LIMIT ${limit}`\n",
    ").then(res=>{\n",
    "        all.push.apply(all,res)\n",
    "    });\n",
    "}))"
   ]
  },
  {
   "cell_type": "code",
   "execution_count": 163,
   "id": "4bd1d787-168b-4e80-8789-15a25fa5ea7d",
   "metadata": {},
   "outputs": [
    {
     "data": {
      "application/vnd.plotly.v1+json": {
       "data": [
        {
         "mode": "scatter",
         "name": "打开issues",
         "x": [
          "2019-11",
          "2019-12",
          "2020-1",
          "2020-2",
          "2020-3",
          "2020-4",
          "2020-6",
          "2020-7",
          "2020-8",
          "2020-9",
          "2020-10",
          "2020-11",
          "2020-12",
          "2021-2",
          "2021-3",
          "2021-8"
         ],
         "y": [
          "6",
          "27",
          "17",
          "4",
          "5",
          "1",
          "3",
          "3",
          "1",
          "1",
          "3",
          "1",
          "6",
          "2",
          "1",
          "5"
         ]
        }
       ],
       "layout": {
        "autosize": true,
        "title": {
         "text": "每月打开issues"
        },
        "xasix": {
         "type": "category"
        },
        "xaxis": {
         "autorange": true,
         "range": [
          "2019-09-23 15:46:28.2127",
          "2021-09-08 08:13:31.7873"
         ],
         "type": "date"
        },
        "yaxis": {
         "autorange": true,
         "range": [
          -1.145631067961165,
          29.145631067961165
         ],
         "type": "linear"
        }
       }
      },
      "image/png": "[encoded data removed]"
     },
     "execution_count": 163,
     "metadata": {},
     "output_type": "execute_result"
    }
   ],
   "source": [
    "all.sort((a,b)=>{\n",
    "    return 12*a.year+a.month-12*b.year-b.month\n",
    "})\n",
    "openDigger.render.plotly([{\n",
    "        x: all.map(d => d.year.toString()+'-'+d.month.toString()),\n",
    "        y: all.map(d => d.count),\n",
    "        name: '打开issues',mode: 'scatter'\n",
    "    }], {title: `每月打开issues`, xasix: { type: 'category' } })"
   ]
  },
  {
   "cell_type": "code",
   "execution_count": 164,
   "id": "890dd6e7-6dd1-4bf4-a2c4-ddf3c41ab668",
   "metadata": {},
   "outputs": [
    {
     "data": {
      "text/plain": [
       "[ undefined, undefined, undefined, undefined, undefined ]"
      ]
     },
     "execution_count": 164,
     "metadata": {},
     "output_type": "execute_result"
    }
   ],
   "source": [
    "var startYear = 2018, endYear = 2022;\n",
    "var years = [];\n",
    "var all = [];\n",
    "for (var y = startYear; y <= endYear; y++) years.push(y);\n",
    "Promise.all(years.map(year => {\n",
    "    return openDigger.driver.clickhouse.query(`SELECT count(*) as count,toMonth(issue_closed_at) as month,max(toYear(issue_closed_at)) as year\n",
    "    FROM github_log.year${year}\n",
    "    WHERE repo_name = 'xiandanin/magnetW' and type = 'IssuesEvent'\n",
    "    GROUP BY toMonth(issue_closed_at)\n",
    "    LIMIT ${limit}`\n",
    ").then(res=>{\n",
    "        all.push.apply(all,res)\n",
    "    });\n",
    "}))"
   ]
  },
  {
   "cell_type": "code",
   "execution_count": 174,
   "id": "2ff39a33-0b12-415d-bcca-e459cab128fe",
   "metadata": {},
   "outputs": [
    {
     "data": {
      "application/vnd.plotly.v1+json": {
       "data": [
        {
         "mode": "scatter",
         "name": "关闭issues",
         "x": [
          "2019-11",
          "2019-12",
          "2020-1",
          "2020-3",
          "2020-7"
         ],
         "y": [
          "1",
          "13",
          "42",
          "1",
          "1"
         ]
        }
       ],
       "layout": {
        "autosize": true,
        "title": {
         "text": "每月关闭issues"
        },
        "xasix": {
         "type": "category"
        },
        "xaxis": {
         "autorange": true,
         "range": [
          "2019-10-17 10:03:18.3344",
          "2020-07-15 13:56:41.6656"
         ],
         "type": "date"
        },
        "yaxis": {
         "autorange": true,
         "range": [
          -2.383495145631068,
          45.383495145631066
         ],
         "type": "linear"
        }
       }
      },
      "image/png": "[encoded data removed]"
     },
     "execution_count": 174,
     "metadata": {},
     "output_type": "execute_result"
    }
   ],
   "source": [
    "all = all.filter(x=>x.year>2015).sort((a,b)=>{\n",
    "    return 12*a.year+a.month-12*b.year-b.month\n",
    "})\n",
    "openDigger.render.plotly([{\n",
    "        x: all.map(d => d.year.toString()+'-'+d.month.toString()),\n",
    "        y: all.map(d => d.count),\n",
    "        name: '关闭issues',mode: 'scatter'\n",
    "    }], {title: `每月关闭issues`, xasix: { type: 'category' } })"
   ]
  },
  {
   "cell_type": "code",
   "execution_count": 179,
   "id": "c8a69aed-6816-415a-a640-ecda87074b47",
   "metadata": {},
   "outputs": [
    {
     "data": {
      "text/plain": [
       "[ undefined, undefined, undefined, undefined, undefined ]"
      ]
     },
     "execution_count": 179,
     "metadata": {},
     "output_type": "execute_result"
    }
   ],
   "source": [
    "var startYear = 2018, endYear = 2022;\n",
    "var years = [];\n",
    "var all = [];\n",
    "for (var y = startYear; y <= endYear; y++) years.push(y);\n",
    "Promise.all(years.map(year => {\n",
    "    return openDigger.driver.clickhouse.query(`SELECT count(*) as count,toMonth(created_at) as month,max(toYear(created_at)) as year\n",
    "    FROM github_log.year${year}\n",
    "    WHERE repo_name = 'xiandanin/magnetW' and type = 'PullRequestEvent'\n",
    "    GROUP BY toMonth(created_at)\n",
    "    LIMIT ${limit}`\n",
    ").then(res=>{\n",
    "        all.push.apply(all,res)\n",
    "    });\n",
    "}))"
   ]
  },
  {
   "cell_type": "code",
   "execution_count": 181,
   "id": "50b64128-0129-4f35-87d4-9df4108b3e24",
   "metadata": {},
   "outputs": [
    {
     "data": {
      "application/vnd.plotly.v1+json": {
       "data": [
        {
         "mode": "scatter",
         "name": "打开pr",
         "x": [
          "2019-11",
          "2019-12",
          "2020-7",
          "2021-6"
         ],
         "y": [
          "1",
          "8",
          "2",
          "1"
         ]
        }
       ],
       "layout": {
        "autosize": true,
        "title": {
         "text": "每月打开PR"
        },
        "xasix": {
         "type": "category"
        },
        "xaxis": {
         "autorange": true,
         "range": [
          "2019-09-27 07:37:14.7213",
          "2021-07-05 16:22:45.2787"
         ],
         "type": "date"
        },
        "yaxis": {
         "autorange": true,
         "range": [
          0.42233009708737856,
          8.577669902912621
         ],
         "type": "linear"
        }
       }
      },
      "image/png": "[encoded data removed]"
     },
     "execution_count": 181,
     "metadata": {},
     "output_type": "execute_result"
    }
   ],
   "source": [
    "all = all.filter(x=>x.year>2015).sort((a,b)=>{\n",
    "    return 12*a.year+a.month-12*b.year-b.month\n",
    "})\n",
    "openDigger.render.plotly([{\n",
    "        x: all.map(d => d.year.toString()+'-'+d.month.toString()),\n",
    "        y: all.map(d => d.count),\n",
    "        name: '打开pr',mode: 'scatter'\n",
    "    }], {title: `每月打开PR`, xasix: { type: 'category' } })"
   ]
  },
  {
   "cell_type": "code",
   "execution_count": 182,
   "id": "25dab449-4f7b-4362-8728-67495837a3e7",
   "metadata": {},
   "outputs": [
    {
     "data": {
      "text/plain": [
       "[ undefined, undefined, undefined, undefined, undefined ]"
      ]
     },
     "execution_count": 182,
     "metadata": {},
     "output_type": "execute_result"
    }
   ],
   "source": [
    "var startYear = 2018, endYear = 2022;\n",
    "var years = [];\n",
    "var all = [];\n",
    "for (var y = startYear; y <= endYear; y++) years.push(y);\n",
    "Promise.all(years.map(year => {\n",
    "    return openDigger.driver.clickhouse.query(`SELECT count(*) as count,toMonth(pull_merged_at) as month,max(toYear(pull_merged_at)) as year\n",
    "    FROM github_log.year${year}\n",
    "    WHERE repo_name = 'xiandanin/magnetW' and type = 'PullRequestEvent'\n",
    "    GROUP BY toMonth(pull_merged_at)\n",
    "    LIMIT ${limit}`\n",
    ").then(res=>{\n",
    "        all.push.apply(all,res)\n",
    "    });\n",
    "}))"
   ]
  },
  {
   "cell_type": "code",
   "execution_count": 184,
   "id": "d0785e89-4eb7-4c79-b88b-0568dfe242da",
   "metadata": {},
   "outputs": [
    {
     "data": {
      "application/vnd.plotly.v1+json": {
       "data": [
        {
         "mode": "scatter",
         "name": "打开pr",
         "x": [
          "2019-12",
          "2020-7"
         ],
         "y": [
          "1",
          "1"
         ]
        }
       ],
       "layout": {
        "autosize": true,
        "title": {
         "text": "每月合并pr"
        },
        "xasix": {
         "type": "category"
        },
        "xaxis": {
         "autorange": true,
         "range": [
          "2019-11-18 05:15:29.4042",
          "2020-07-13 18:44:30.5958"
         ],
         "type": "date"
        },
        "yaxis": {
         "autorange": true,
         "range": [
          0,
          2
         ],
         "type": "linear"
        }
       }
      },
      "image/png": "[encoded data removed]"
     },
     "execution_count": 184,
     "metadata": {},
     "output_type": "execute_result"
    }
   ],
   "source": [
    "all = all.filter(x=>x.year>2015).sort((a,b)=>{\n",
    "    return 12*a.year+a.month-12*b.year-b.month\n",
    "})\n",
    "openDigger.render.plotly([{\n",
    "        x: all.map(d => d.year.toString()+'-'+d.month.toString()),\n",
    "        y: all.map(d => d.count),\n",
    "        name: '打开pr',mode: 'scatter'\n",
    "    }], {title: `每月合并pr`, xasix: { type: 'category' } })"
   ]
  },
  {
   "cell_type": "code",
   "execution_count": 185,
   "id": "109f64a0-9667-4e61-ba8a-e8928d77faf4",
   "metadata": {},
   "outputs": [
    {
     "data": {
      "text/plain": [
       "[ undefined, undefined, undefined, undefined, undefined ]"
      ]
     },
     "execution_count": 185,
     "metadata": {},
     "output_type": "execute_result"
    }
   ],
   "source": [
    "var startYear = 2018, endYear = 2022;\n",
    "var years = [];\n",
    "var all = [];\n",
    "for (var y = startYear; y <= endYear; y++) years.push(y);\n",
    "Promise.all(years.map(year => {\n",
    "    return openDigger.driver.clickhouse.query(`SELECT count(*) as count,toMonth(created_at) as month,max(toYear(created_at)) as year\n",
    "    FROM github_log.year${year}\n",
    "    WHERE repo_name = 'xiandanin/magnetW'\n",
    "    GROUP BY toMonth(created_at),actor_id\n",
    "    LIMIT ${limit}`\n",
    ").then(res=>{\n",
    "        all.push.apply(all,res)\n",
    "    });\n",
    "}))"
   ]
  },
  {
   "cell_type": "code",
   "execution_count": 187,
   "id": "3001c85b-d8de-4e2f-bc28-405c73fba103",
   "metadata": {},
   "outputs": [
    {
     "data": {
      "application/vnd.plotly.v1+json": {
       "data": [
        {
         "mode": "scatter",
         "x": [
          "2019-11",
          "2019-11",
          "2019-12",
          "2019-12",
          "2019-12",
          "2019-12",
          "2019-12",
          "2019-12",
          "2019-12",
          "2019-12",
          "2019-12",
          "2019-12",
          "2019-12",
          "2019-12",
          "2019-12",
          "2019-12",
          "2019-12",
          "2019-12",
          "2019-12",
          "2019-12",
          "2019-12",
          "2019-12",
          "2019-12",
          "2019-12",
          "2019-12",
          "2019-12",
          "2019-12",
          "2019-12",
          "2019-12",
          "2019-12",
          "2019-12",
          "2019-12",
          "2019-12",
          "2019-12",
          "2019-12",
          "2019-12",
          "2019-12",
          "2019-12",
          "2019-12",
          "2019-12",
          "2019-12",
          "2019-12",
          "2019-12",
          "2019-12",
          "2019-12",
          "2019-12",
          "2019-12",
          "2019-12",
          "2019-12",
          "2019-12",
          "2019-12",
          "2019-12",
          "2019-12",
          "2019-12",
          "2019-12",
          "2019-12",
          "2019-12",
          "2019-12",
          "2019-12",
          "2019-12",
          "2019-12",
          "2019-12",
          "2019-12",
          "2019-12",
          "2019-12",
          "2019-12",
          "2019-12",
          "2019-12",
          "2019-12",
          "2019-12",
          "2019-12",
          "2019-12",
          "2019-12",
          "2019-12",
          "2019-12",
          "2019-12",
          "2019-12",
          "2019-12",
          "2019-12",
          "2019-12",
          "2019-12",
          "2019-12",
          "2019-12",
          "2019-12",
          "2019-12",
          "2019-12",
          "2019-12",
          "2019-12",
          "2019-12",
          "2019-12",
          "2019-12",
          "2019-12",
          "2019-12",
          "2019-12",
          "2019-12",
          "2019-12",
          "2019-12",
          "2019-12",
          "2019-12",
          "2019-12",
          "2020-1",
          "2020-1",
          "2020-1",
          "2020-1",
          "2020-1",
          "2020-1",
          "2020-1",
          "2020-1",
          "2020-1",
          "2020-1",
          "2020-1",
          "2020-1",
          "2020-1",
          "2020-1",
          "2020-1",
          "2020-1",
          "2020-1",
          "2020-1",
          "2020-1",
          "2020-1",
          "2020-1",
          "2020-1",
          "2020-1",
          "2020-1",
          "2020-1",
          "2020-1",
          "2020-2",
          "2020-2",
          "2020-2",
          "2020-2",
          "2020-2",
          "2020-2",
          "2020-2",
          "2020-2",
          "2020-2",
          "2020-2",
          "2020-3",
          "2020-3",
          "2020-3",
          "2020-3",
          "2020-3",
          "2020-3",
          "2020-3",
          "2020-4",
          "2020-4",
          "2020-4",
          "2020-4",
          "2020-4",
          "2020-4",
          "2020-4",
          "2020-5",
          "2020-6",
          "2020-6",
          "2020-6",
          "2020-6",
          "2020-6",
          "2020-6",
          "2020-6",
          "2020-6",
          "2020-6",
          "2020-6",
          "2020-6",
          "2020-6",
          "2020-6",
          "2020-6",
          "2020-7",
          "2020-7",
          "2020-7",
          "2020-7",
          "2020-7",
          "2020-7",
          "2020-7",
          "2020-7",
          "2020-8",
          "2020-9",
          "2020-9",
          "2020-9",
          "2020-9",
          "2020-10",
          "2020-10",
          "2020-10",
          "2020-10",
          "2020-10",
          "2020-11",
          "2020-11",
          "2020-11",
          "2020-11",
          "2020-12",
          "2020-12",
          "2020-12",
          "2020-12",
          "2020-12",
          "2020-12",
          "2020-12",
          "2020-12",
          "2020-12",
          "2020-12",
          "2020-12",
          "2020-12",
          "2020-12",
          "2021-1",
          "2021-1",
          "2021-1",
          "2021-1",
          "2021-1",
          "2021-1",
          "2021-1",
          "2021-1",
          "2021-2",
          "2021-2",
          "2021-2",
          "2021-3",
          "2021-3",
          "2021-3",
          "2021-3",
          "2021-3",
          "2021-3",
          "2021-3",
          "2021-3",
          "2021-4",
          "2021-4",
          "2021-4",
          "2021-4",
          "2021-4",
          "2021-4",
          "2021-4",
          "2021-4",
          "2021-5",
          "2021-6",
          "2021-7",
          "2021-7",
          "2021-7",
          "2021-7",
          "2021-7",
          "2021-7",
          "2021-7",
          "2021-7",
          "2021-7",
          "2021-7",
          "2021-7",
          "2021-7",
          "2021-7",
          "2021-7",
          "2021-7",
          "2021-7",
          "2021-7",
          "2021-7",
          "2021-7",
          "2021-7",
          "2021-7",
          "2021-7",
          "2021-7",
          "2021-7",
          "2021-7",
          "2021-7",
          "2021-7",
          "2021-7",
          "2021-7",
          "2021-7",
          "2021-7",
          "2021-7",
          "2021-7",
          "2021-7",
          "2021-7",
          "2021-7",
          "2021-7",
          "2021-7",
          "2021-7",
          "2021-7",
          "2021-7",
          "2021-7",
          "2021-7",
          "2021-7",
          "2021-7",
          "2021-8",
          "2021-8",
          "2021-8",
          "2021-8",
          "2021-8",
          "2021-8",
          "2021-8",
          "2021-8",
          "2021-8",
          "2021-8",
          "2021-9",
          "2021-9",
          "2021-9",
          "2021-9",
          "2021-9",
          "2021-11",
          "2021-11",
          "2021-11",
          "2021-11",
          "2021-11",
          "2021-11",
          "2021-12",
          "2021-12",
          "2021-12",
          "2021-12",
          "2021-12",
          "2022-1",
          "2022-1",
          "2022-1",
          "2022-1",
          "2022-1",
          "2022-1",
          "2022-1",
          "2022-1",
          "2022-1",
          "2022-1",
          "2022-1",
          "2022-1",
          "2022-1",
          "2022-1",
          "2022-1",
          "2022-1",
          "2022-1",
          "2022-1",
          "2022-1",
          "2022-1",
          "2022-1",
          "2022-1",
          "2022-1",
          "2022-1",
          "2022-2",
          "2022-2",
          "2022-2",
          "2022-2",
          "2022-2",
          "2022-2",
          "2022-2",
          "2022-2",
          "2022-2",
          "2022-2",
          "2022-2",
          "2022-2",
          "2022-2",
          "2022-2",
          "2022-2",
          "2022-2",
          "2022-2",
          "2022-2",
          "2022-2",
          "2022-2",
          "2022-2",
          "2022-2",
          "2022-2",
          "2022-2",
          "2022-2",
          "2022-2",
          "2022-2",
          "2022-2",
          "2022-2",
          "2022-2",
          "2022-3",
          "2022-3",
          "2022-3",
          "2022-3",
          "2022-3",
          "2022-3",
          "2022-3",
          "2022-3",
          "2022-3",
          "2022-3",
          "2022-3",
          "2022-3",
          "2022-3",
          "2022-3",
          "2022-3",
          "2022-3",
          "2022-3",
          "2022-3",
          "2022-3",
          "2022-3",
          "2022-3",
          "2022-3",
          "2022-3",
          "2022-3",
          "2022-3",
          "2022-3",
          "2022-3",
          "2022-3",
          "2022-3",
          "2022-3",
          "2022-4",
          "2022-4",
          "2022-4",
          "2022-4",
          "2022-4",
          "2022-4",
          "2022-4",
          "2022-4",
          "2022-4",
          "2022-4",
          "2022-4",
          "2022-4",
          "2022-4",
          "2022-4",
          "2022-4",
          "2022-4"
         ],
         "y": [
          "1",
          "1",
          "1",
          "1",
          "1",
          "1",
          "1",
          "1",
          "1",
          "1",
          "1",
          "1",
          "1",
          "1",
          "2",
          "1",
          "1",
          "1",
          "1",
          "1",
          "1",
          "1",
          "1",
          "1",
          "1",
          "1",
          "1",
          "1",
          "1",
          "1",
          "1",
          "1",
          "1",
          "1",
          "1",
          "1",
          "1",
          "1",
          "1",
          "1",
          "1",
          "1",
          "1",
          "1",
          "1",
          "1",
          "1",
          "1",
          "1",
          "1",
          "1",
          "1",
          "1",
          "1",
          "1",
          "1",
          "1",
          "1",
          "1",
          "1",
          "1",
          "1",
          "1",
          "1",
          "1",
          "1",
          "1",
          "1",
          "1",
          "1",
          "1",
          "1",
          "1",
          "1",
          "1",
          "1",
          "1",
          "1",
          "1",
          "2",
          "1",
          "1",
          "1",
          "1",
          "1",
          "1",
          "1",
          "1",
          "1",
          "1",
          "1",
          "1",
          "1",
          "1",
          "1",
          "1",
          "1",
          "1",
          "2",
          "1",
          "1",
          "1",
          "1",
          "2",
          "1",
          "1",
          "1",
          "1",
          "1",
          "1",
          "1",
          "1",
          "1",
          "1",
          "1",
          "1",
          "1",
          "1",
          "1",
          "1",
          "1",
          "1",
          "1",
          "1",
          "1",
          "1",
          "1",
          "1",
          "1",
          "1",
          "1",
          "1",
          "1",
          "1",
          "1",
          "2",
          "1",
          "1",
          "2",
          "1",
          "1",
          "1",
          "1",
          "1",
          "1",
          "1",
          "1",
          "1",
          "1",
          "1",
          "1",
          "1",
          "1",
          "1",
          "1",
          "1",
          "1",
          "1",
          "1",
          "1",
          "1",
          "1",
          "1",
          "2",
          "1",
          "1",
          "1",
          "1",
          "1",
          "1",
          "1",
          "1",
          "2",
          "1",
          "1",
          "1",
          "1",
          "1",
          "1",
          "1",
          "1",
          "2",
          "1",
          "1",
          "1",
          "1",
          "1",
          "1",
          "1",
          "1",
          "1",
          "1",
          "1",
          "1",
          "2",
          "1",
          "1",
          "1",
          "3",
          "1",
          "1",
          "1",
          "1",
          "1",
          "1",
          "1",
          "2",
          "1",
          "1",
          "1",
          "1",
          "1",
          "2",
          "1",
          "1",
          "1",
          "1",
          "1",
          "1",
          "1",
          "1",
          "1",
          "1",
          "1",
          "1",
          "1",
          "1",
          "1",
          "1",
          "1",
          "1",
          "1",
          "1",
          "1",
          "1",
          "1",
          "2",
          "1",
          "1",
          "1",
          "1",
          "1",
          "1",
          "1",
          "1",
          "1",
          "1",
          "1",
          "1",
          "2",
          "1",
          "1",
          "1",
          "1",
          "1",
          "1",
          "1",
          "1",
          "1",
          "1",
          "1",
          "1",
          "1",
          "1",
          "1",
          "1",
          "1",
          "1",
          "1",
          "2",
          "1",
          "1",
          "1",
          "1",
          "1",
          "1",
          "1",
          "1",
          "1",
          "1",
          "2",
          "1",
          "1",
          "1",
          "1",
          "1",
          "1",
          "1",
          "1",
          "1",
          "1",
          "1",
          "1",
          "1",
          "1",
          "1",
          "12",
          "1",
          "1",
          "1",
          "1",
          "1",
          "2",
          "2",
          "1",
          "1",
          "1",
          "1",
          "1",
          "1",
          "1",
          "1",
          "1",
          "1",
          "1",
          "1",
          "1",
          "1",
          "1",
          "1",
          "1",
          "1",
          "1",
          "1",
          "1",
          "1",
          "1",
          "1",
          "1",
          "1",
          "1",
          "1",
          "1",
          "1",
          "1",
          "1",
          "1",
          "1",
          "1",
          "1",
          "1",
          "1",
          "1",
          "1",
          "1",
          "1",
          "1",
          "1",
          "1",
          "2",
          "1",
          "1",
          "1",
          "1",
          "1",
          "1",
          "1",
          "1",
          "2",
          "1",
          "1",
          "1",
          "1",
          "1",
          "1",
          "1",
          "1",
          "2",
          "1",
          "1",
          "1",
          "1",
          "1",
          "1",
          "1",
          "1",
          "1",
          "1",
          "1",
          "1",
          "1",
          "1",
          "1",
          "2",
          "1",
          "1",
          "1",
          "1",
          "1",
          "1",
          "1",
          "1",
          "2",
          "1",
          "1",
          "1",
          "1",
          "1",
          "1",
          "1"
         ]
        }
       ],
       "layout": {
        "autosize": true,
        "title": {
         "text": "每月活跃开发者数量"
        },
        "xasix": {
         "type": "category"
        },
        "xaxis": {
         "autorange": true,
         "range": [
          "2019-11-01",
          "2022-04-01"
         ],
         "type": "date"
        },
        "yaxis": {
         "autorange": true,
         "range": [
          0.38888888888888895,
          12.61111111111111
         ],
         "type": "linear"
        }
       }
      },
      "image/png": "[encoded data removed]"
     },
     "execution_count": 187,
     "metadata": {},
     "output_type": "execute_result"
    }
   ],
   "source": [
    "all = all.filter(x=>x.year>2015).sort((a,b)=>{\n",
    "    return 12*a.year+a.month-12*b.year-b.month\n",
    "})\n",
    "openDigger.render.plotly([{\n",
    "        x: all.map(d => d.year.toString()+'-'+d.month.toString()),\n",
    "        y: all.map(d => d.count),mode: 'scatter'\n",
    "    }], {title: `每月活跃开发者数量`, xasix: { type: 'category' } })"
   ]
  },
  {
   "cell_type": "code",
   "execution_count": 207,
   "id": "66dee707-b7e6-4780-ad75-972bbd88ae4b",
   "metadata": {},
   "outputs": [
    {
     "data": {
      "text/plain": [
       "[ undefined, undefined, undefined, undefined, undefined ]"
      ]
     },
     "execution_count": 207,
     "metadata": {},
     "output_type": "execute_result"
    }
   ],
   "source": [
    "var startYear = 2018, endYear = 2022;\n",
    "var years = [];\n",
    "var all = [];\n",
    "for (var y = startYear; y <= endYear; y++) years.push(y);\n",
    "Promise.all(years.map(year => {\n",
    "    return openDigger.driver.clickhouse.query(`SELECT issue_closed_at,issue_created_at\n",
    "    FROM github_log.year${year}\n",
    "    WHERE repo_name = 'xiandanin/magnetW' and type = 'IssuesEvent' and toYear(issue_closed_at)>2015 and toYear(issue_created_at)>2015`\n",
    ").then(res=>{\n",
    "        all.push.apply(all,res)\n",
    "    });\n",
    "}))"
   ]
  },
  {
   "cell_type": "code",
   "execution_count": 230,
   "id": "785435ec-f7ac-4b02-9fa5-7387c5df2211",
   "metadata": {},
   "outputs": [
    {
     "name": "stdout",
     "output_type": "stream",
     "text": [
      "13\n",
      "23.838158068783066\n"
     ]
    }
   ],
   "source": [
    "console.log(middle(all.map(x=>Math.floor((new Date(x.issue_closed_at)-new Date(x.issue_created_at))/(24*3600*1000)))))\n",
    "console.log(average(all.map(x=>(new Date(x.issue_closed_at)-new Date(x.issue_created_at))/(24*3600*1000))))"
   ]
  },
  {
   "cell_type": "code",
   "execution_count": 231,
   "id": "010ef23b-8a49-4804-9fce-e6a1fb0c1500",
   "metadata": {},
   "outputs": [
    {
     "data": {
      "text/plain": [
       "[ undefined, undefined, undefined, undefined, undefined ]"
      ]
     },
     "execution_count": 231,
     "metadata": {},
     "output_type": "execute_result"
    }
   ],
   "source": [
    "var startYear = 2018, endYear = 2022;\n",
    "var years = [];\n",
    "var all = [];\n",
    "for (var y = startYear; y <= endYear; y++) years.push(y);\n",
    "Promise.all(years.map(year => {\n",
    "    return openDigger.driver.clickhouse.query(`SELECT pull_merged_at,created_at\n",
    "    FROM github_log.year${year}\n",
    "    WHERE repo_name = 'xiandanin/magnetW' and type = 'PullRequestEvent' and toYear(created_at)>2015 and toYear(pull_merged_at)>2015`\n",
    ").then(res=>{\n",
    "        all.push.apply(all,res)\n",
    "    });\n",
    "}))"
   ]
  },
  {
   "cell_type": "code",
   "execution_count": 232,
   "id": "87789804-235f-4c09-8e3f-0247fe7a1439",
   "metadata": {},
   "outputs": [
    {
     "name": "stdout",
     "output_type": "stream",
     "text": [
      "-1\n",
      "-0.000011574074074074073\n"
     ]
    }
   ],
   "source": [
    "console.log(middle(all.map(x=>Math.floor((new Date(x.pull_merged_at)-new Date(x.created_at))/(24*3600*1000)))))\n",
    "consol\n",
    "e.log(average(all.map(x=>(new Date(x.pull_merged_at)-new Date(x.created_at))/(24*3600*1000))))\n",
    "#pr创建时间在哪"
   ]
  },
  {
   "cell_type": "code",
   "execution_count": 6,
   "id": "1606530c-1b04-44c8-a736-76d97cfdc2f2",
   "metadata": {},
   "outputs": [
    {
     "name": "stdout",
     "output_type": "stream",
     "text": [
      "[\n",
      "  { repo_name: 'YTVanced/VancedManager', cnt: '2884' },\n",
      "  { repo_name: 'dnSpy/dnSpy', cnt: '1379' },\n",
      "  { repo_name: 'netchx/netch', cnt: '1308' },\n",
      "  { repo_name: 'vmware/clarity', cnt: '1098' },\n",
      "  { repo_name: 'h2y/Shadowrocket-ADBlock-Rules', cnt: '995' },\n",
      "  { repo_name: 'GitSquared/edex-ui', cnt: '990' },\n",
      "  { repo_name: 'helm/charts', cnt: '796' },\n",
      "  { repo_name: 'PowerShellMafia/PowerSploit', cnt: '746' },\n",
      "  { repo_name: 'DeviaVir/zenbot', cnt: '645' },\n",
      "  { repo_name: 'CoatiSoftware/Sourcetrail', cnt: '586' }\n",
      "]\n"
     ]
    }
   ],
   "source": [
    "[\n",
    "  { type: 'WatchEvent', 'count()': '1776' },\n",
    "  { type: 'CreateEvent', 'count()': '11' },\n",
    "  { type: 'PushEvent', 'count()': '49' },\n",
    "  { type: 'IssuesEvent', 'count()': '33' },\n",
    "  { type: 'GollumEvent', 'count()': '59' },\n",
    "  { type: 'PullRequestEvent', 'count()': '9' },\n",
    "  { type: 'ReleaseEvent', 'count()': '3' },\n",
    "  { type: 'ForkEvent', 'count()': '216' },\n",
    "  { type: 'DeleteEvent', 'count()': '75' },\n",
    "  { type: 'IssueCommentEvent', 'count()': '79' },\n",
    "  { type: 'CommitCommentEvent', 'count()': '1' }\n",
    "]"
   ]
  },
  {
   "cell_type": "code",
   "execution_count": null,
   "id": "bb77254d",
   "metadata": {},
   "outputs": [],
   "source": [
    "# 可能归档的原因\n",
    "1. 项目的README上有注明：本应用开源且免费，仅用于爬虫技术交流学习，搜索结果均来自源站，亦不承担任何责任。因此开发者可能担心该\n",
    "项目被人非法使用，出于法律风险考虑终止项目开发。\n",
    "2.从统计数据上看，参与到该项目的活跃贡献者始终增长较少，且项目后期新增Stars数量也迅速变少，因此开发者也可能因逐渐失去社区支持，缺少\n",
    "持续关注的情况下终止开发。\n",
    "# 项目归档后可能产生的影响\n",
    "对开发者来说，终止项目避免了用户不当使用给其带来的法律风险。对用户来说则失去了磁力搜索聚合工具持续优化的可能。\n",
    "# 对开源项目如何可持续发展\n",
    "需要有持续性的商业模式，支持个人开发者，直接从用户或粉丝获得收入，向受捐助者（开源贡献者）承诺少量经常性收入，以示对其工作的支持。此外需要\n",
    "有针对保护个人开发者的法律协议，帮助个人开发者解决相关法律风险问题。"
   ]
  }
 ],
 "metadata": {
  "kernelspec": {
   "display_name": "Python 3 (ipykernel)",
   "language": "python",
   "name": "python3"
  },
  "language_info": {
   "codemirror_mode": {
    "name": "ipython",
    "version": 3
   },
   "file_extension": ".py",
   "mimetype": "text/x-python",
   "name": "python",
   "nbconvert_exporter": "python",
   "pygments_lexer": "ipython3",
   "version": "3.9.7"
  }
 },
 "nbformat": 4,
 "nbformat_minor": 5
}

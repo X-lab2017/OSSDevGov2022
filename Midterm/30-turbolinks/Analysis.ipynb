{
 "cells": [
  {
   "cell_type": "code",
   "execution_count": 1,
   "source": [
    "var openDigger = require('../src/open_digger');"
   ],
   "outputs": [],
   "metadata": {}
  },
  {
   "cell_type": "code",
   "execution_count": 2,
   "source": [
    "var query = openDigger.driver.clickhouse.query;\n",
    "query(\n",
    "    `show databases`\n",
    "    )"
   ],
   "outputs": [
    {
     "output_type": "execute_result",
     "data": {
      "text/plain": [
       "[\n",
       "  { name: '_temporary_and_external_tables' },\n",
       "  { name: 'default' },\n",
       "  { name: 'github_log' },\n",
       "  { name: 'system' }\n",
       "]"
      ]
     },
     "metadata": {},
     "execution_count": 2
    }
   ],
   "metadata": {}
  },
  {
   "cell_type": "code",
   "execution_count": 3,
   "source": [
    "var year = 2022;\n",
    "var limit = 15;\n",
    "query(\n",
    "    `SELECT anyHeavy(repo_name) as repo_name, COUNT(*) as cnt\n",
    "    FROM github_log.year${year}\n",
    "    GROUP BY repo_id\n",
    "    ORDER BY cnt DESC     \n",
    "    LIMIT ${limit}`)\n",
    "    .then(res=>{    \n",
    "        console.log(res);\n",
    "});"
   ],
   "outputs": [
    {
     "output_type": "stream",
     "name": "stdout",
     "text": [
      "[\n",
      "  { repo_name: 'YTVanced/VancedManager', cnt: '2884' },\n",
      "  { repo_name: 'dnSpy/dnSpy', cnt: '1379' },\n",
      "  { repo_name: 'netchx/netch', cnt: '1308' },\n",
      "  { repo_name: 'vmware/clarity', cnt: '1098' },\n",
      "  { repo_name: 'h2y/Shadowrocket-ADBlock-Rules', cnt: '995' },\n",
      "  { repo_name: 'GitSquared/edex-ui', cnt: '990' },\n",
      "  { repo_name: 'helm/charts', cnt: '796' },\n",
      "  { repo_name: 'PowerShellMafia/PowerSploit', cnt: '746' },\n",
      "  { repo_name: 'DeviaVir/zenbot', cnt: '645' },\n",
      "  { repo_name: 'CoatiSoftware/Sourcetrail', cnt: '586' },\n",
      "  { repo_name: 'MathewSachin/Captura', cnt: '577' },\n",
      "  { repo_name: 'angular/angular.js', cnt: '487' },\n",
      "  { repo_name: 'surmon-china/vue-awesome-swiper', cnt: '481' },\n",
      "  { repo_name: 'boltdb/bolt', cnt: '471' },\n",
      "  { repo_name: 'getlantern/download', cnt: '444' }\n",
      "]\n"
     ]
    }
   ],
   "metadata": {}
  },
  {
   "cell_type": "markdown",
   "source": [
    "# 全局变量"
   ],
   "metadata": {}
  },
  {
   "cell_type": "code",
   "execution_count": 4,
   "source": [
    "//var year = 2016;\n",
    "//var limit = 1;\n",
    "//var type = 'WatchEvent' //'WatchEvent' 'ForkEvent'\n",
    "//var filed = ['repo_forks_count', 'repo_stargazers_count', \n",
    "//             'issue_created_at', 'issue_closed_at',\n",
    "//            ]\n",
    "const year_ls = [2016,2017,2018,2019,2020,2021]\n",
    "var repo_id = 50807547;\n"
   ],
   "outputs": [],
   "metadata": {}
  },
  {
   "cell_type": "markdown",
   "source": [
    "# 一些help function"
   ],
   "metadata": {}
  },
  {
   "cell_type": "code",
   "execution_count": 46,
   "source": [
    "function count_type_each_month(year_ls, type, ls) {\n",
    "    year_ls.forEach(each=>{\n",
    "        query(\n",
    "            `\n",
    "            SELECT count(*) record_count, month,year_t from (\n",
    "                SELECT created_at, toMonth(created_at) month,toYear(created_at) year_t\n",
    "                FROM github_log.year${each}    \n",
    "                where repo_id = ${repo_id}\n",
    "                and type = '${type}'\n",
    "            ) t\n",
    "            group by t.month,t.year_t order by t.month,t.year_t \n",
    "            `).then(\n",
    "            res=>{\n",
    "                ls.push(res)\n",
    "            }\n",
    "\n",
    "        )\n",
    "    })\n",
    "}\n",
    "\n",
    "function count_type_action_each_month(year_ls, type, action, ls) {\n",
    "    year_ls.forEach(each=>{\n",
    "        query(\n",
    "            `\n",
    "            SELECT count(*) record_count, month,year_t from (\n",
    "                SELECT created_at, toMonth(created_at) month,toYear(created_at) year_t\n",
    "                FROM github_log.year${each}    \n",
    "                where repo_id = ${repo_id}\n",
    "                and type = '${type}'\n",
    "                and action = '${action}'\n",
    "            ) t\n",
    "            group by t.month,t.year_t order by t.month,t.year_t\n",
    "            `).then(\n",
    "            res=>{\n",
    "                ls.push(res)\n",
    "            }\n",
    "        )\n",
    "    })\n",
    "}\n",
    "function plotxy(count_ls,y_,x_,year_){\n",
    "    for(var i = 0;i< count_ls.length;i++)\n",
    "    {\n",
    "\n",
    "        count_ls[i].forEach(function(v){\n",
    "        y_.push(parseInt(v.record_count))\n",
    "        x_.push(count_ls[i][0].year_t.toString() + '-' + v.month.toString())\n",
    "        })\n",
    "    }\n",
    "}\n",
    "\n",
    "function plot(y_,x_,year_,t){\n",
    "openDigger.render.plotly([{y:y_,x:x_,}\n",
    "                         ],  {title: t});\n",
    "}\n",
    "\n",
    "function table_(count_ls){\n",
    "    var all_ls=[]\n",
    "    for(var i = 0;i< count_ls.length;i++)\n",
    "    {\n",
    "        \n",
    "        count_ls[i].forEach(function(v){\n",
    "        all_ls.push(v)})\n",
    "    }\n",
    "    console.table(\n",
    "        all_ls.map((d, i) => {\n",
    "            return {\n",
    "                '年份': d.year_t,\n",
    "                '月份': d.month,\n",
    "                '个数': d.record_count,\n",
    "\n",
    "                };\n",
    "            }\n",
    "        )\n",
    "    );\n",
    "}\n"
   ],
   "outputs": [],
   "metadata": {}
  },
  {
   "cell_type": "markdown",
   "source": [
    "# 1"
   ],
   "metadata": {}
  },
  {
   "cell_type": "code",
   "execution_count": 47,
   "source": [
    "// 1.每月新增star\n",
    "var star_count_ls = []\n",
    "count_type_each_month(year_ls, 'WatchEvent', star_count_ls)"
   ],
   "outputs": [],
   "metadata": {}
  },
  {
   "cell_type": "code",
   "execution_count": 48,
   "source": [
    "star_count_ls.sort(function(a,b){\n",
    "            return a[0].year_t-b[0].year_t});"
   ],
   "outputs": [
    {
     "output_type": "execute_result",
     "data": {
      "text/plain": [
       "[\n",
       "  [\n",
       "    { record_count: '375', month: 2, year_t: 2016 },\n",
       "    { record_count: '157', month: 3, year_t: 2016 },\n",
       "    { record_count: '115', month: 4, year_t: 2016 },\n",
       "    { record_count: '160', month: 5, year_t: 2016 },\n",
       "    { record_count: '279', month: 6, year_t: 2016 },\n",
       "    { record_count: '442', month: 7, year_t: 2016 },\n",
       "    { record_count: '332', month: 8, year_t: 2016 },\n",
       "    { record_count: '245', month: 9, year_t: 2016 },\n",
       "    { record_count: '201', month: 10, year_t: 2016 },\n",
       "    { record_count: '324', month: 11, year_t: 2016 },\n",
       "    { record_count: '150', month: 12, year_t: 2016 }\n",
       "  ],\n",
       "  [\n",
       "    { record_count: '201', month: 1, year_t: 2017 },\n",
       "    { record_count: '226', month: 2, year_t: 2017 },\n",
       "    { record_count: '189', month: 3, year_t: 2017 },\n",
       "    { record_count: '216', month: 4, year_t: 2017 },\n",
       "    { record_count: '169', month: 5, year_t: 2017 },\n",
       "    { record_count: '118', month: 6, year_t: 2017 },\n",
       "    { record_count: '124', month: 7, year_t: 2017 },\n",
       "    { record_count: '245', month: 8, year_t: 2017 },\n",
       "    { record_count: '177', month: 9, year_t: 2017 },\n",
       "    { record_count: '115', month: 10, year_t: 2017 },\n",
       "    { record_count: '153', month: 11, year_t: 2017 },\n",
       "    { record_count: '255', month: 12, year_t: 2017 }\n",
       "  ],\n",
       "  [\n",
       "    { record_count: '597', month: 1, year_t: 2018 },\n",
       "    { record_count: '529', month: 2, year_t: 2018 },\n",
       "    { record_count: '231', month: 3, year_t: 2018 },\n",
       "    { record_count: '159', month: 4, year_t: 2018 },\n",
       "    { record_count: '211', month: 5, year_t: 2018 },\n",
       "    { record_count: '129', month: 6, year_t: 2018 },\n",
       "    { record_count: '176', month: 7, year_t: 2018 },\n",
       "    { record_count: '161', month: 8, year_t: 2018 },\n",
       "    { record_count: '175', month: 9, year_t: 2018 },\n",
       "    { record_count: '271', month: 10, year_t: 2018 },\n",
       "    { record_count: '174', month: 11, year_t: 2018 },\n",
       "    { record_count: '105', month: 12, year_t: 2018 }\n",
       "  ],\n",
       "  [\n",
       "    { record_count: '156', month: 1, year_t: 2019 },\n",
       "    { record_count: '269', month: 2, year_t: 2019 },\n",
       "    { record_count: '176', month: 3, year_t: 2019 },\n",
       "    { record_count: '115', month: 4, year_t: 2019 },\n",
       "    { record_count: '141', month: 5, year_t: 2019 },\n",
       "    { record_count: '119', month: 6, year_t: 2019 },\n",
       "    { record_count: '125', month: 7, year_t: 2019 },\n",
       "    { record_count: '138', month: 8, year_t: 2019 },\n",
       "    { record_count: '91', month: 9, year_t: 2019 },\n",
       "    { record_count: '113', month: 10, year_t: 2019 },\n",
       "    { record_count: '100', month: 11, year_t: 2019 },\n",
       "    { record_count: '106', month: 12, year_t: 2019 }\n",
       "  ],\n",
       "  [\n",
       "    { record_count: '182', month: 1, year_t: 2020 },\n",
       "    { record_count: '177', month: 2, year_t: 2020 },\n",
       "    { record_count: '209', month: 3, year_t: 2020 },\n",
       "    { record_count: '253', month: 4, year_t: 2020 },\n",
       "    { record_count: '307', month: 5, year_t: 2020 },\n",
       "    { record_count: '936', month: 6, year_t: 2020 },\n",
       "    { record_count: '302', month: 7, year_t: 2020 },\n",
       "    { record_count: '202', month: 8, year_t: 2020 },\n",
       "    { record_count: '153', month: 9, year_t: 2020 },\n",
       "    { record_count: '277', month: 10, year_t: 2020 },\n",
       "    { record_count: '316', month: 11, year_t: 2020 },\n",
       "    { record_count: '299', month: 12, year_t: 2020 }\n",
       "  ],\n",
       "  [\n",
       "    { record_count: '108', month: 1, year_t: 2021 },\n",
       "    { record_count: '75', month: 2, year_t: 2021 },\n",
       "    { record_count: '59', month: 3, year_t: 2021 },\n",
       "    { record_count: '48', month: 4, year_t: 2021 },\n",
       "    { record_count: '60', month: 5, year_t: 2021 },\n",
       "    { record_count: '52', month: 6, year_t: 2021 },\n",
       "    { record_count: '37', month: 7, year_t: 2021 },\n",
       "    { record_count: '41', month: 8, year_t: 2021 },\n",
       "    { record_count: '36', month: 9, year_t: 2021 },\n",
       "    { record_count: '5', month: 10, year_t: 2021 },\n",
       "    { record_count: '20', month: 11, year_t: 2021 },\n",
       "    { record_count: '24', month: 12, year_t: 2021 }\n",
       "  ]\n",
       "]"
      ]
     },
     "metadata": {},
     "execution_count": 48
    }
   ],
   "metadata": {}
  },
  {
   "cell_type": "code",
   "execution_count": 49,
   "source": [
    "var star_y=[]\n",
    "var star_x=[]\n",
    "var star_year=[]\n",
    "plotxy(star_count_ls,star_y,star_x,star_year)"
   ],
   "outputs": [],
   "metadata": {}
  },
  {
   "cell_type": "code",
   "execution_count": 50,
   "source": [
    "plot(star_y,star_x,star_year,'每月新增star个数')\n",
    "table_(star_count_ls)"
   ],
   "outputs": [
    {
     "output_type": "execute_result",
     "data": {
      "application/vnd.plotly.v1+json": {
       "data": [
        {
         "x": [
          "2016-2",
          "2016-3",
          "2016-4",
          "2016-5",
          "2016-6",
          "2016-7",
          "2016-8",
          "2016-9",
          "2016-10",
          "2016-11",
          "2016-12",
          "2017-1",
          "2017-2",
          "2017-3",
          "2017-4",
          "2017-5",
          "2017-6",
          "2017-7",
          "2017-8",
          "2017-9",
          "2017-10",
          "2017-11",
          "2017-12",
          "2018-1",
          "2018-2",
          "2018-3",
          "2018-4",
          "2018-5",
          "2018-6",
          "2018-7",
          "2018-8",
          "2018-9",
          "2018-10",
          "2018-11",
          "2018-12",
          "2019-1",
          "2019-2",
          "2019-3",
          "2019-4",
          "2019-5",
          "2019-6",
          "2019-7",
          "2019-8",
          "2019-9",
          "2019-10",
          "2019-11",
          "2019-12",
          "2020-1",
          "2020-2",
          "2020-3",
          "2020-4",
          "2020-5",
          "2020-6",
          "2020-7",
          "2020-8",
          "2020-9",
          "2020-10",
          "2020-11",
          "2020-12",
          "2021-1",
          "2021-2",
          "2021-3",
          "2021-4",
          "2021-5",
          "2021-6",
          "2021-7",
          "2021-8",
          "2021-9",
          "2021-10",
          "2021-11",
          "2021-12"
         ],
         "y": [
          375,
          157,
          115,
          160,
          279,
          442,
          332,
          245,
          201,
          324,
          150,
          201,
          226,
          189,
          216,
          169,
          118,
          124,
          245,
          177,
          115,
          153,
          255,
          597,
          529,
          231,
          159,
          211,
          129,
          176,
          161,
          175,
          271,
          174,
          105,
          156,
          269,
          176,
          115,
          141,
          119,
          125,
          138,
          91,
          113,
          100,
          106,
          182,
          177,
          209,
          253,
          307,
          936,
          302,
          202,
          153,
          277,
          316,
          299,
          108,
          75,
          59,
          48,
          60,
          52,
          37,
          41,
          36,
          5,
          20,
          24
         ]
        }
       ],
       "layout": {
        "autosize": true,
        "title": {
         "text": "每月新增star个数"
        },
        "xaxis": {
         "autorange": true,
         "range": [
          "2016-02-01",
          "2021-12-01"
         ],
         "type": "date"
        },
        "yaxis": {
         "autorange": true,
         "range": [
          -46.72222222222222,
          987.7222222222222
         ],
         "type": "linear"
        }
       }
      },
      "image/png": "[encoded data removed]"
     },
     "metadata": {},
     "execution_count": 50
    },
    {
     "output_type": "stream",
     "name": "stdout",
     "text": [
      "┌─────────┬──────┬──────┬───────┐\n",
      "│ (index) │ 年份 │ 月份 │ 个数  │\n",
      "├─────────┼──────┼──────┼───────┤\n",
      "│    0    │ 2016 │  2   │ '375' │\n",
      "│    1    │ 2016 │  3   │ '157' │\n",
      "│    2    │ 2016 │  4   │ '115' │\n",
      "│    3    │ 2016 │  5   │ '160' │\n",
      "│    4    │ 2016 │  6   │ '279' │\n",
      "│    5    │ 2016 │  7   │ '442' │\n",
      "│    6    │ 2016 │  8   │ '332' │\n",
      "│    7    │ 2016 │  9   │ '245' │\n",
      "│    8    │ 2016 │  10  │ '201' │\n",
      "│    9    │ 2016 │  11  │ '324' │\n",
      "│   10    │ 2016 │  12  │ '150' │\n",
      "│   11    │ 2017 │  1   │ '201' │\n",
      "│   12    │ 2017 │  2   │ '226' │\n",
      "│   13    │ 2017 │  3   │ '189' │\n",
      "│   14    │ 2017 │  4   │ '216' │\n",
      "│   15    │ 2017 │  5   │ '169' │\n",
      "│   16    │ 2017 │  6   │ '118' │\n",
      "│   17    │ 2017 │  7   │ '124' │\n",
      "│   18    │ 2017 │  8   │ '245' │\n",
      "│   19    │ 2017 │  9   │ '177' │\n",
      "│   20    │ 2017 │  10  │ '115' │\n",
      "│   21    │ 2017 │  11  │ '153' │\n",
      "│   22    │ 2017 │  12  │ '255' │\n",
      "│   23    │ 2018 │  1   │ '597' │\n",
      "│   24    │ 2018 │  2   │ '529' │\n",
      "│   25    │ 2018 │  3   │ '231' │\n",
      "│   26    │ 2018 │  4   │ '159' │\n",
      "│   27    │ 2018 │  5   │ '211' │\n",
      "│   28    │ 2018 │  6   │ '129' │\n",
      "│   29    │ 2018 │  7   │ '176' │\n",
      "│   30    │ 2018 │  8   │ '161' │\n",
      "│   31    │ 2018 │  9   │ '175' │\n",
      "│   32    │ 2018 │  10  │ '271' │\n",
      "│   33    │ 2018 │  11  │ '174' │\n",
      "│   34    │ 2018 │  12  │ '105' │\n",
      "│   35    │ 2019 │  1   │ '156' │\n",
      "│   36    │ 2019 │  2   │ '269' │\n",
      "│   37    │ 2019 │  3   │ '176' │\n",
      "│   38    │ 2019 │  4   │ '115' │\n",
      "│   39    │ 2019 │  5   │ '141' │\n",
      "│   40    │ 2019 │  6   │ '119' │\n",
      "│   41    │ 2019 │  7   │ '125' │\n",
      "│   42    │ 2019 │  8   │ '138' │\n",
      "│   43    │ 2019 │  9   │ '91'  │\n",
      "│   44    │ 2019 │  10  │ '113' │\n",
      "│   45    │ 2019 │  11  │ '100' │\n",
      "│   46    │ 2019 │  12  │ '106' │\n",
      "│   47    │ 2020 │  1   │ '182' │\n",
      "│   48    │ 2020 │  2   │ '177' │\n",
      "│   49    │ 2020 │  3   │ '209' │\n",
      "│   50    │ 2020 │  4   │ '253' │\n",
      "│   51    │ 2020 │  5   │ '307' │\n",
      "│   52    │ 2020 │  6   │ '936' │\n",
      "│   53    │ 2020 │  7   │ '302' │\n",
      "│   54    │ 2020 │  8   │ '202' │\n",
      "│   55    │ 2020 │  9   │ '153' │\n",
      "│   56    │ 2020 │  10  │ '277' │\n",
      "│   57    │ 2020 │  11  │ '316' │\n",
      "│   58    │ 2020 │  12  │ '299' │\n",
      "│   59    │ 2021 │  1   │ '108' │\n",
      "│   60    │ 2021 │  2   │ '75'  │\n",
      "│   61    │ 2021 │  3   │ '59'  │\n",
      "│   62    │ 2021 │  4   │ '48'  │\n",
      "│   63    │ 2021 │  5   │ '60'  │\n",
      "│   64    │ 2021 │  6   │ '52'  │\n",
      "│   65    │ 2021 │  7   │ '37'  │\n",
      "│   66    │ 2021 │  8   │ '41'  │\n",
      "│   67    │ 2021 │  9   │ '36'  │\n",
      "│   68    │ 2021 │  10  │  '5'  │\n",
      "│   69    │ 2021 │  11  │ '20'  │\n",
      "│   70    │ 2021 │  12  │ '24'  │\n",
      "└─────────┴──────┴──────┴───────┘\n"
     ]
    }
   ],
   "metadata": {}
  },
  {
   "cell_type": "code",
   "execution_count": 27,
   "source": [
    "// 1.每月新增Fork_ls\n",
    "var Fork_count_ls = []\n",
    "count_type_each_month(year_ls, 'ForkEvent', Fork_count_ls)"
   ],
   "outputs": [],
   "metadata": {}
  },
  {
   "cell_type": "code",
   "execution_count": 28,
   "source": [
    "Fork_count_ls.sort(function(a,b){\n",
    "            return a[0].year_t-b[0].year_t});"
   ],
   "outputs": [
    {
     "output_type": "execute_result",
     "data": {
      "text/plain": [
       "[\n",
       "  [\n",
       "    { record_count: '22', month: 2, year_t: 2016 },\n",
       "    { record_count: '15', month: 3, year_t: 2016 },\n",
       "    { record_count: '16', month: 4, year_t: 2016 },\n",
       "    { record_count: '11', month: 5, year_t: 2016 },\n",
       "    { record_count: '13', month: 6, year_t: 2016 },\n",
       "    { record_count: '22', month: 7, year_t: 2016 },\n",
       "    { record_count: '21', month: 8, year_t: 2016 },\n",
       "    { record_count: '17', month: 9, year_t: 2016 },\n",
       "    { record_count: '21', month: 10, year_t: 2016 },\n",
       "    { record_count: '17', month: 11, year_t: 2016 },\n",
       "    { record_count: '14', month: 12, year_t: 2016 }\n",
       "  ],\n",
       "  [\n",
       "    { record_count: '16', month: 1, year_t: 2017 },\n",
       "    { record_count: '22', month: 2, year_t: 2017 },\n",
       "    { record_count: '17', month: 3, year_t: 2017 },\n",
       "    { record_count: '26', month: 4, year_t: 2017 },\n",
       "    { record_count: '26', month: 5, year_t: 2017 },\n",
       "    { record_count: '9', month: 6, year_t: 2017 },\n",
       "    { record_count: '12', month: 7, year_t: 2017 },\n",
       "    { record_count: '14', month: 8, year_t: 2017 },\n",
       "    { record_count: '11', month: 9, year_t: 2017 },\n",
       "    { record_count: '13', month: 10, year_t: 2017 },\n",
       "    { record_count: '9', month: 11, year_t: 2017 },\n",
       "    { record_count: '15', month: 12, year_t: 2017 }\n",
       "  ],\n",
       "  [\n",
       "    { record_count: '28', month: 1, year_t: 2018 },\n",
       "    { record_count: '27', month: 2, year_t: 2018 },\n",
       "    { record_count: '23', month: 3, year_t: 2018 },\n",
       "    { record_count: '12', month: 4, year_t: 2018 },\n",
       "    { record_count: '13', month: 5, year_t: 2018 },\n",
       "    { record_count: '11', month: 6, year_t: 2018 },\n",
       "    { record_count: '13', month: 7, year_t: 2018 },\n",
       "    { record_count: '8', month: 8, year_t: 2018 },\n",
       "    { record_count: '14', month: 9, year_t: 2018 },\n",
       "    { record_count: '13', month: 10, year_t: 2018 },\n",
       "    { record_count: '13', month: 11, year_t: 2018 },\n",
       "    { record_count: '9', month: 12, year_t: 2018 }\n",
       "  ],\n",
       "  [\n",
       "    { record_count: '14', month: 1, year_t: 2019 },\n",
       "    { record_count: '17', month: 2, year_t: 2019 },\n",
       "    { record_count: '12', month: 3, year_t: 2019 },\n",
       "    { record_count: '11', month: 4, year_t: 2019 },\n",
       "    { record_count: '9', month: 5, year_t: 2019 },\n",
       "    { record_count: '8', month: 6, year_t: 2019 },\n",
       "    { record_count: '13', month: 7, year_t: 2019 },\n",
       "    { record_count: '3', month: 8, year_t: 2019 },\n",
       "    { record_count: '9', month: 9, year_t: 2019 },\n",
       "    { record_count: '8', month: 10, year_t: 2019 },\n",
       "    { record_count: '3', month: 11, year_t: 2019 },\n",
       "    { record_count: '8', month: 12, year_t: 2019 }\n",
       "  ],\n",
       "  [\n",
       "    { record_count: '12', month: 1, year_t: 2020 },\n",
       "    { record_count: '8', month: 2, year_t: 2020 },\n",
       "    { record_count: '8', month: 3, year_t: 2020 },\n",
       "    { record_count: '7', month: 4, year_t: 2020 },\n",
       "    { record_count: '14', month: 5, year_t: 2020 },\n",
       "    { record_count: '22', month: 6, year_t: 2020 },\n",
       "    { record_count: '17', month: 7, year_t: 2020 },\n",
       "    { record_count: '6', month: 8, year_t: 2020 },\n",
       "    { record_count: '10', month: 9, year_t: 2020 },\n",
       "    { record_count: '10', month: 10, year_t: 2020 },\n",
       "    { record_count: '6', month: 11, year_t: 2020 },\n",
       "    { record_count: '11', month: 12, year_t: 2020 }\n",
       "  ],\n",
       "  [\n",
       "    { record_count: '7', month: 1, year_t: 2021 },\n",
       "    { record_count: '4', month: 2, year_t: 2021 },\n",
       "    { record_count: '7', month: 3, year_t: 2021 },\n",
       "    { record_count: '5', month: 4, year_t: 2021 },\n",
       "    { record_count: '8', month: 6, year_t: 2021 },\n",
       "    { record_count: '5', month: 7, year_t: 2021 },\n",
       "    { record_count: '3', month: 8, year_t: 2021 },\n",
       "    { record_count: '5', month: 9, year_t: 2021 },\n",
       "    { record_count: '5', month: 11, year_t: 2021 },\n",
       "    { record_count: '3', month: 12, year_t: 2021 }\n",
       "  ]\n",
       "]"
      ]
     },
     "metadata": {},
     "execution_count": 28
    }
   ],
   "metadata": {}
  },
  {
   "cell_type": "code",
   "execution_count": 30,
   "source": [
    "var fork_y=[]\n",
    "var fork_x=[]\n",
    "var fork_year=[]\n",
    "plotxy(Fork_count_ls,fork_y,fork_x,fork_year)\n",
    "\n"
   ],
   "outputs": [],
   "metadata": {}
  },
  {
   "cell_type": "code",
   "execution_count": 31,
   "source": [
    "plot(fork_y,fork_x,fork_year,'每月新增fork个数')\n",
    "table_(Fork_count_ls)"
   ],
   "outputs": [
    {
     "output_type": "execute_result",
     "data": {
      "application/vnd.plotly.v1+json": {
       "data": [
        {
         "x": [
          "2016-2",
          "2016-3",
          "2016-4",
          "2016-5",
          "2016-6",
          "2016-7",
          "2016-8",
          "2016-9",
          "2016-10",
          "2016-11",
          "2016-12",
          "2017-1",
          "2017-2",
          "2017-3",
          "2017-4",
          "2017-5",
          "2017-6",
          "2017-7",
          "2017-8",
          "2017-9",
          "2017-10",
          "2017-11",
          "2017-12",
          "2018-1",
          "2018-2",
          "2018-3",
          "2018-4",
          "2018-5",
          "2018-6",
          "2018-7",
          "2018-8",
          "2018-9",
          "2018-10",
          "2018-11",
          "2018-12",
          "2019-1",
          "2019-2",
          "2019-3",
          "2019-4",
          "2019-5",
          "2019-6",
          "2019-7",
          "2019-8",
          "2019-9",
          "2019-10",
          "2019-11",
          "2019-12",
          "2020-1",
          "2020-2",
          "2020-3",
          "2020-4",
          "2020-5",
          "2020-6",
          "2020-7",
          "2020-8",
          "2020-9",
          "2020-10",
          "2020-11",
          "2020-12",
          "2021-1",
          "2021-2",
          "2021-3",
          "2021-4",
          "2021-6",
          "2021-7",
          "2021-8",
          "2021-9",
          "2021-11",
          "2021-12"
         ],
         "y": [
          22,
          15,
          16,
          11,
          13,
          22,
          21,
          17,
          21,
          17,
          14,
          16,
          22,
          17,
          26,
          26,
          9,
          12,
          14,
          11,
          13,
          9,
          15,
          28,
          27,
          23,
          12,
          13,
          11,
          13,
          8,
          14,
          13,
          13,
          9,
          14,
          17,
          12,
          11,
          9,
          8,
          13,
          3,
          9,
          8,
          3,
          8,
          12,
          8,
          8,
          7,
          14,
          22,
          17,
          6,
          10,
          10,
          6,
          11,
          7,
          4,
          7,
          5,
          8,
          5,
          3,
          5,
          5,
          3
         ]
        }
       ],
       "layout": {
        "autosize": true,
        "title": {
         "text": "每月新增fork个数"
        },
        "xaxis": {
         "autorange": true,
         "range": [
          "2016-02-01",
          "2021-12-01"
         ],
         "type": "date"
        },
        "yaxis": {
         "autorange": true,
         "range": [
          1.6111111111111112,
          29.38888888888889
         ],
         "type": "linear"
        }
       }
      },
      "image/png": "[encoded data removed]"
     },
     "metadata": {},
     "execution_count": 31
    },
    {
     "output_type": "stream",
     "name": "stdout",
     "text": [
      "┌─────────┬──────┬──────┬──────┐\n",
      "│ (index) │ 年份 │ 月份 │ 个数 │\n",
      "├─────────┼──────┼──────┼──────┤\n",
      "│    0    │ 2016 │  2   │ '22' │\n",
      "│    1    │ 2016 │  3   │ '15' │\n",
      "│    2    │ 2016 │  4   │ '16' │\n",
      "│    3    │ 2016 │  5   │ '11' │\n",
      "│    4    │ 2016 │  6   │ '13' │\n",
      "│    5    │ 2016 │  7   │ '22' │\n",
      "│    6    │ 2016 │  8   │ '21' │\n",
      "│    7    │ 2016 │  9   │ '17' │\n",
      "│    8    │ 2016 │  10  │ '21' │\n",
      "│    9    │ 2016 │  11  │ '17' │\n",
      "│   10    │ 2016 │  12  │ '14' │\n",
      "│   11    │ 2017 │  1   │ '16' │\n",
      "│   12    │ 2017 │  2   │ '22' │\n",
      "│   13    │ 2017 │  3   │ '17' │\n",
      "│   14    │ 2017 │  4   │ '26' │\n",
      "│   15    │ 2017 │  5   │ '26' │\n",
      "│   16    │ 2017 │  6   │ '9'  │\n",
      "│   17    │ 2017 │  7   │ '12' │\n",
      "│   18    │ 2017 │  8   │ '14' │\n",
      "│   19    │ 2017 │  9   │ '11' │\n",
      "│   20    │ 2017 │  10  │ '13' │\n",
      "│   21    │ 2017 │  11  │ '9'  │\n",
      "│   22    │ 2017 │  12  │ '15' │\n",
      "│   23    │ 2018 │  1   │ '28' │\n",
      "│   24    │ 2018 │  2   │ '27' │\n",
      "│   25    │ 2018 │  3   │ '23' │\n",
      "│   26    │ 2018 │  4   │ '12' │\n",
      "│   27    │ 2018 │  5   │ '13' │\n",
      "│   28    │ 2018 │  6   │ '11' │\n",
      "│   29    │ 2018 │  7   │ '13' │\n",
      "│   30    │ 2018 │  8   │ '8'  │\n",
      "│   31    │ 2018 │  9   │ '14' │\n",
      "│   32    │ 2018 │  10  │ '13' │\n",
      "│   33    │ 2018 │  11  │ '13' │\n",
      "│   34    │ 2018 │  12  │ '9'  │\n",
      "│   35    │ 2019 │  1   │ '14' │\n",
      "│   36    │ 2019 │  2   │ '17' │\n",
      "│   37    │ 2019 │  3   │ '12' │\n",
      "│   38    │ 2019 │  4   │ '11' │\n",
      "│   39    │ 2019 │  5   │ '9'  │\n",
      "│   40    │ 2019 │  6   │ '8'  │\n",
      "│   41    │ 2019 │  7   │ '13' │\n",
      "│   42    │ 2019 │  8   │ '3'  │\n",
      "│   43    │ 2019 │  9   │ '9'  │\n",
      "│   44    │ 2019 │  10  │ '8'  │\n",
      "│   45    │ 2019 │  11  │ '3'  │\n",
      "│   46    │ 2019 │  12  │ '8'  │\n",
      "│   47    │ 2020 │  1   │ '12' │\n",
      "│   48    │ 2020 │  2   │ '8'  │\n",
      "│   49    │ 2020 │  3   │ '8'  │\n",
      "│   50    │ 2020 │  4   │ '7'  │\n",
      "│   51    │ 2020 │  5   │ '14' │\n",
      "│   52    │ 2020 │  6   │ '22' │\n",
      "│   53    │ 2020 │  7   │ '17' │\n",
      "│   54    │ 2020 │  8   │ '6'  │\n",
      "│   55    │ 2020 │  9   │ '10' │\n",
      "│   56    │ 2020 │  10  │ '10' │\n",
      "│   57    │ 2020 │  11  │ '6'  │\n",
      "│   58    │ 2020 │  12  │ '11' │\n",
      "│   59    │ 2021 │  1   │ '7'  │\n",
      "│   60    │ 2021 │  2   │ '4'  │\n",
      "│   61    │ 2021 │  3   │ '7'  │\n",
      "│   62    │ 2021 │  4   │ '5'  │\n",
      "│   63    │ 2021 │  6   │ '8'  │\n",
      "│   64    │ 2021 │  7   │ '5'  │\n",
      "│   65    │ 2021 │  8   │ '3'  │\n",
      "│   66    │ 2021 │  9   │ '5'  │\n",
      "│   67    │ 2021 │  11  │ '5'  │\n",
      "│   68    │ 2021 │  12  │ '3'  │\n",
      "└─────────┴──────┴──────┴──────┘\n"
     ]
    }
   ],
   "metadata": {}
  },
  {
   "cell_type": "markdown",
   "source": [
    "# 2"
   ],
   "metadata": {}
  },
  {
   "cell_type": "code",
   "execution_count": 32,
   "source": [
    "// 2.每月新增issue\n",
    "var issue_create_count_ls = []\n",
    "count_type_action_each_month(year_ls, 'IssuesEvent', 'opened', issue_create_count_ls)"
   ],
   "outputs": [],
   "metadata": {}
  },
  {
   "cell_type": "code",
   "execution_count": 33,
   "source": [
    "// 2.每月关闭issue\n",
    "var issue_close_count_ls= []\n",
    "count_type_action_each_month(year_ls, 'IssuesEvent', 'closed', issue_close_count_ls)"
   ],
   "outputs": [],
   "metadata": {}
  },
  {
   "cell_type": "code",
   "execution_count": 34,
   "source": [
    "issue_create_count_ls.sort(function(a,b){\n",
    "            return a[0].year_t-b[0].year_t});\n",
    "issue_close_count_ls.sort(function(a,b){\n",
    "            return a[0].year_t-b[0].year_t});"
   ],
   "outputs": [
    {
     "output_type": "execute_result",
     "data": {
      "text/plain": [
       "[\n",
       "  [\n",
       "    { record_count: '14', month: 2, year_t: 2016 },\n",
       "    { record_count: '26', month: 3, year_t: 2016 },\n",
       "    { record_count: '14', month: 4, year_t: 2016 },\n",
       "    { record_count: '16', month: 5, year_t: 2016 },\n",
       "    { record_count: '26', month: 6, year_t: 2016 },\n",
       "    { record_count: '21', month: 7, year_t: 2016 },\n",
       "    { record_count: '9', month: 8, year_t: 2016 },\n",
       "    { record_count: '5', month: 9, year_t: 2016 },\n",
       "    { record_count: '6', month: 10, year_t: 2016 },\n",
       "    { record_count: '7', month: 11, year_t: 2016 },\n",
       "    { record_count: '4', month: 12, year_t: 2016 }\n",
       "  ],\n",
       "  [\n",
       "    { record_count: '3', month: 1, year_t: 2017 },\n",
       "    { record_count: '1', month: 2, year_t: 2017 },\n",
       "    { record_count: '4', month: 3, year_t: 2017 },\n",
       "    { record_count: '6', month: 4, year_t: 2017 },\n",
       "    { record_count: '5', month: 5, year_t: 2017 },\n",
       "    { record_count: '1', month: 6, year_t: 2017 },\n",
       "    { record_count: '3', month: 7, year_t: 2017 },\n",
       "    { record_count: '2', month: 8, year_t: 2017 },\n",
       "    { record_count: '3', month: 9, year_t: 2017 },\n",
       "    { record_count: '3', month: 10, year_t: 2017 },\n",
       "    { record_count: '1', month: 11, year_t: 2017 },\n",
       "    { record_count: '1', month: 12, year_t: 2017 }\n",
       "  ],\n",
       "  [\n",
       "    { record_count: '8', month: 1, year_t: 2018 },\n",
       "    { record_count: '5', month: 2, year_t: 2018 },\n",
       "    { record_count: '3', month: 3, year_t: 2018 },\n",
       "    { record_count: '4', month: 4, year_t: 2018 },\n",
       "    { record_count: '3', month: 5, year_t: 2018 },\n",
       "    { record_count: '2', month: 6, year_t: 2018 },\n",
       "    { record_count: '5', month: 7, year_t: 2018 },\n",
       "    { record_count: '1', month: 8, year_t: 2018 },\n",
       "    { record_count: '77', month: 9, year_t: 2018 },\n",
       "    { record_count: '10', month: 10, year_t: 2018 },\n",
       "    { record_count: '4', month: 11, year_t: 2018 },\n",
       "    { record_count: '1', month: 12, year_t: 2018 }\n",
       "  ],\n",
       "  [\n",
       "    { record_count: '6', month: 2, year_t: 2019 },\n",
       "    { record_count: '4', month: 3, year_t: 2019 },\n",
       "    { record_count: '3', month: 4, year_t: 2019 },\n",
       "    { record_count: '7', month: 6, year_t: 2019 },\n",
       "    { record_count: '1', month: 7, year_t: 2019 },\n",
       "    { record_count: '1', month: 8, year_t: 2019 },\n",
       "    { record_count: '7', month: 9, year_t: 2019 },\n",
       "    { record_count: '8', month: 10, year_t: 2019 },\n",
       "    { record_count: '3', month: 12, year_t: 2019 }\n",
       "  ],\n",
       "  [\n",
       "    { record_count: '5', month: 1, year_t: 2020 },\n",
       "    { record_count: '5', month: 2, year_t: 2020 },\n",
       "    { record_count: '9', month: 3, year_t: 2020 },\n",
       "    { record_count: '14', month: 4, year_t: 2020 },\n",
       "    { record_count: '4', month: 5, year_t: 2020 },\n",
       "    { record_count: '2', month: 6, year_t: 2020 },\n",
       "    { record_count: '2', month: 7, year_t: 2020 },\n",
       "    { record_count: '1', month: 8, year_t: 2020 },\n",
       "    { record_count: '15', month: 9, year_t: 2020 },\n",
       "    { record_count: '2', month: 11, year_t: 2020 },\n",
       "    { record_count: '3', month: 12, year_t: 2020 }\n",
       "  ],\n",
       "  [\n",
       "    { record_count: '1', month: 1, year_t: 2021 },\n",
       "    { record_count: '4', month: 2, year_t: 2021 },\n",
       "    { record_count: '2', month: 4, year_t: 2021 }\n",
       "  ]\n",
       "]"
      ]
     },
     "metadata": {},
     "execution_count": 34
    }
   ],
   "metadata": {}
  },
  {
   "cell_type": "code",
   "execution_count": 35,
   "source": [
    "var issue_y=[]\n",
    "var issue_x=[]\n",
    "var issue_year=[]\n",
    "plotxy(issue_create_count_ls,issue_y,issue_x,issue_year)\n",
    "plot(issue_y,issue_x,issue_year,'每月新增issue个数')\n",
    "table_(issue_create_count_ls)"
   ],
   "outputs": [
    {
     "output_type": "execute_result",
     "data": {
      "application/vnd.plotly.v1+json": {
       "data": [
        {
         "x": [
          "2016-2",
          "2016-3",
          "2016-4",
          "2016-5",
          "2016-6",
          "2016-7",
          "2016-8",
          "2016-9",
          "2016-10",
          "2016-11",
          "2016-12",
          "2017-1",
          "2017-2",
          "2017-3",
          "2017-4",
          "2017-5",
          "2017-6",
          "2017-7",
          "2017-8",
          "2017-9",
          "2017-10",
          "2017-11",
          "2017-12",
          "2018-1",
          "2018-2",
          "2018-3",
          "2018-4",
          "2018-5",
          "2018-6",
          "2018-7",
          "2018-8",
          "2018-9",
          "2018-10",
          "2018-11",
          "2018-12",
          "2019-2",
          "2019-3",
          "2019-4",
          "2019-5",
          "2019-6",
          "2019-7",
          "2019-8",
          "2019-9",
          "2019-10",
          "2019-11",
          "2019-12",
          "2020-1",
          "2020-2",
          "2020-3",
          "2020-4",
          "2020-5",
          "2020-6",
          "2020-7",
          "2020-8",
          "2020-9",
          "2020-11",
          "2020-12",
          "2021-1",
          "2021-2",
          "2021-3",
          "2021-4",
          "2021-5",
          "2021-6",
          "2021-7",
          "2021-9"
         ],
         "y": [
          18,
          25,
          18,
          18,
          19,
          23,
          15,
          10,
          16,
          11,
          7,
          9,
          9,
          13,
          16,
          16,
          6,
          7,
          6,
          7,
          1,
          5,
          5,
          5,
          9,
          5,
          7,
          7,
          6,
          6,
          4,
          3,
          6,
          3,
          2,
          7,
          6,
          3,
          2,
          7,
          3,
          4,
          7,
          8,
          1,
          6,
          9,
          4,
          3,
          7,
          6,
          5,
          6,
          3,
          13,
          7,
          3,
          4,
          4,
          4,
          1,
          1,
          1,
          1,
          1
         ]
        }
       ],
       "layout": {
        "autosize": true,
        "title": {
         "text": "每月新增issue个数"
        },
        "xaxis": {
         "autorange": true,
         "range": [
          "2016-02-01",
          "2021-09-01"
         ],
         "type": "date"
        },
        "yaxis": {
         "autorange": true,
         "range": [
          -0.33333333333333326,
          26.333333333333332
         ],
         "type": "linear"
        }
       }
      },
      "image/png": "[encoded data removed]"
     },
     "metadata": {},
     "execution_count": 35
    },
    {
     "output_type": "stream",
     "name": "stdout",
     "text": [
      "┌─────────┬──────┬──────┬──────┐\n",
      "│ (index) │ 年份 │ 月份 │ 个数 │\n",
      "├─────────┼──────┼──────┼──────┤\n",
      "│    0    │ 2016 │  2   │ '18' │\n",
      "│    1    │ 2016 │  3   │ '25' │\n",
      "│    2    │ 2016 │  4   │ '18' │\n",
      "│    3    │ 2016 │  5   │ '18' │\n",
      "│    4    │ 2016 │  6   │ '19' │\n",
      "│    5    │ 2016 │  7   │ '23' │\n",
      "│    6    │ 2016 │  8   │ '15' │\n",
      "│    7    │ 2016 │  9   │ '10' │\n",
      "│    8    │ 2016 │  10  │ '16' │\n",
      "│    9    │ 2016 │  11  │ '11' │\n",
      "│   10    │ 2016 │  12  │ '7'  │\n",
      "│   11    │ 2017 │  1   │ '9'  │\n",
      "│   12    │ 2017 │  2   │ '9'  │\n",
      "│   13    │ 2017 │  3   │ '13' │\n",
      "│   14    │ 2017 │  4   │ '16' │\n",
      "│   15    │ 2017 │  5   │ '16' │\n",
      "│   16    │ 2017 │  6   │ '6'  │\n",
      "│   17    │ 2017 │  7   │ '7'  │\n",
      "│   18    │ 2017 │  8   │ '6'  │\n",
      "│   19    │ 2017 │  9   │ '7'  │\n",
      "│   20    │ 2017 │  10  │ '1'  │\n",
      "│   21    │ 2017 │  11  │ '5'  │\n",
      "│   22    │ 2017 │  12  │ '5'  │\n",
      "│   23    │ 2018 │  1   │ '5'  │\n",
      "│   24    │ 2018 │  2   │ '9'  │\n",
      "│   25    │ 2018 │  3   │ '5'  │\n",
      "│   26    │ 2018 │  4   │ '7'  │\n",
      "│   27    │ 2018 │  5   │ '7'  │\n",
      "│   28    │ 2018 │  6   │ '6'  │\n",
      "│   29    │ 2018 │  7   │ '6'  │\n",
      "│   30    │ 2018 │  8   │ '4'  │\n",
      "│   31    │ 2018 │  9   │ '3'  │\n",
      "│   32    │ 2018 │  10  │ '6'  │\n",
      "│   33    │ 2018 │  11  │ '3'  │\n",
      "│   34    │ 2018 │  12  │ '2'  │\n",
      "│   35    │ 2019 │  2   │ '7'  │\n",
      "│   36    │ 2019 │  3   │ '6'  │\n",
      "│   37    │ 2019 │  4   │ '3'  │\n",
      "│   38    │ 2019 │  5   │ '2'  │\n",
      "│   39    │ 2019 │  6   │ '7'  │\n",
      "│   40    │ 2019 │  7   │ '3'  │\n",
      "│   41    │ 2019 │  8   │ '4'  │\n",
      "│   42    │ 2019 │  9   │ '7'  │\n",
      "│   43    │ 2019 │  10  │ '8'  │\n",
      "│   44    │ 2019 │  11  │ '1'  │\n",
      "│   45    │ 2019 │  12  │ '6'  │\n",
      "│   46    │ 2020 │  1   │ '9'  │\n",
      "│   47    │ 2020 │  2   │ '4'  │\n",
      "│   48    │ 2020 │  3   │ '3'  │\n",
      "│   49    │ 2020 │  4   │ '7'  │\n",
      "│   50    │ 2020 │  5   │ '6'  │\n",
      "│   51    │ 2020 │  6   │ '5'  │\n",
      "│   52    │ 2020 │  7   │ '6'  │\n",
      "│   53    │ 2020 │  8   │ '3'  │\n",
      "│   54    │ 2020 │  9   │ '13' │\n",
      "│   55    │ 2020 │  11  │ '7'  │\n",
      "│   56    │ 2020 │  12  │ '3'  │\n",
      "│   57    │ 2021 │  1   │ '4'  │\n",
      "│   58    │ 2021 │  2   │ '4'  │\n",
      "│   59    │ 2021 │  3   │ '4'  │\n",
      "│   60    │ 2021 │  4   │ '1'  │\n",
      "│   61    │ 2021 │  5   │ '1'  │\n",
      "│   62    │ 2021 │  6   │ '1'  │\n",
      "│   63    │ 2021 │  7   │ '1'  │\n",
      "│   64    │ 2021 │  9   │ '1'  │\n",
      "└─────────┴──────┴──────┴──────┘\n"
     ]
    }
   ],
   "metadata": {}
  },
  {
   "cell_type": "code",
   "execution_count": 36,
   "source": [
    "var issue_close_y=[]\n",
    "var issue_close_x=[]\n",
    "var issue_close_year=[]\n",
    "plotxy(issue_close_count_ls,issue_close_y,issue_close_x,issue_close_year)\n",
    "plot(issue_close_y,issue_close_x,issue_close_year,'每月关闭issue个数')\n",
    "table_(issue_close_count_ls)"
   ],
   "outputs": [
    {
     "output_type": "execute_result",
     "data": {
      "application/vnd.plotly.v1+json": {
       "data": [
        {
         "x": [
          "2016-2",
          "2016-3",
          "2016-4",
          "2016-5",
          "2016-6",
          "2016-7",
          "2016-8",
          "2016-9",
          "2016-10",
          "2016-11",
          "2016-12",
          "2017-1",
          "2017-2",
          "2017-3",
          "2017-4",
          "2017-5",
          "2017-6",
          "2017-7",
          "2017-8",
          "2017-9",
          "2017-10",
          "2017-11",
          "2017-12",
          "2018-1",
          "2018-2",
          "2018-3",
          "2018-4",
          "2018-5",
          "2018-6",
          "2018-7",
          "2018-8",
          "2018-9",
          "2018-10",
          "2018-11",
          "2018-12",
          "2019-2",
          "2019-3",
          "2019-4",
          "2019-6",
          "2019-7",
          "2019-8",
          "2019-9",
          "2019-10",
          "2019-12",
          "2020-1",
          "2020-2",
          "2020-3",
          "2020-4",
          "2020-5",
          "2020-6",
          "2020-7",
          "2020-8",
          "2020-9",
          "2020-11",
          "2020-12",
          "2021-1",
          "2021-2",
          "2021-4"
         ],
         "y": [
          14,
          26,
          14,
          16,
          26,
          21,
          9,
          5,
          6,
          7,
          4,
          3,
          1,
          4,
          6,
          5,
          1,
          3,
          2,
          3,
          3,
          1,
          1,
          8,
          5,
          3,
          4,
          3,
          2,
          5,
          1,
          77,
          10,
          4,
          1,
          6,
          4,
          3,
          7,
          1,
          1,
          7,
          8,
          3,
          5,
          5,
          9,
          14,
          4,
          2,
          2,
          1,
          15,
          2,
          3,
          1,
          4,
          2
         ]
        }
       ],
       "layout": {
        "autosize": true,
        "title": {
         "text": "每月关闭issue个数"
        },
        "xaxis": {
         "autorange": true,
         "range": [
          "2016-02-01",
          "2021-04-01"
         ],
         "type": "date"
        },
        "yaxis": {
         "autorange": true,
         "range": [
          -3.2222222222222223,
          81.22222222222223
         ],
         "type": "linear"
        }
       }
      },
      "image/png": "[encoded data removed]"
     },
     "metadata": {},
     "execution_count": 36
    },
    {
     "output_type": "stream",
     "name": "stdout",
     "text": [
      "┌─────────┬──────┬──────┬──────┐\n",
      "│ (index) │ 年份 │ 月份 │ 个数 │\n",
      "├─────────┼──────┼──────┼──────┤\n",
      "│    0    │ 2016 │  2   │ '14' │\n",
      "│    1    │ 2016 │  3   │ '26' │\n",
      "│    2    │ 2016 │  4   │ '14' │\n",
      "│    3    │ 2016 │  5   │ '16' │\n",
      "│    4    │ 2016 │  6   │ '26' │\n",
      "│    5    │ 2016 │  7   │ '21' │\n",
      "│    6    │ 2016 │  8   │ '9'  │\n",
      "│    7    │ 2016 │  9   │ '5'  │\n",
      "│    8    │ 2016 │  10  │ '6'  │\n",
      "│    9    │ 2016 │  11  │ '7'  │\n",
      "│   10    │ 2016 │  12  │ '4'  │\n",
      "│   11    │ 2017 │  1   │ '3'  │\n",
      "│   12    │ 2017 │  2   │ '1'  │\n",
      "│   13    │ 2017 │  3   │ '4'  │\n",
      "│   14    │ 2017 │  4   │ '6'  │\n",
      "│   15    │ 2017 │  5   │ '5'  │\n",
      "│   16    │ 2017 │  6   │ '1'  │\n",
      "│   17    │ 2017 │  7   │ '3'  │\n",
      "│   18    │ 2017 │  8   │ '2'  │\n",
      "│   19    │ 2017 │  9   │ '3'  │\n",
      "│   20    │ 2017 │  10  │ '3'  │\n",
      "│   21    │ 2017 │  11  │ '1'  │\n",
      "│   22    │ 2017 │  12  │ '1'  │\n",
      "│   23    │ 2018 │  1   │ '8'  │\n",
      "│   24    │ 2018 │  2   │ '5'  │\n",
      "│   25    │ 2018 │  3   │ '3'  │\n",
      "│   26    │ 2018 │  4   │ '4'  │\n",
      "│   27    │ 2018 │  5   │ '3'  │\n",
      "│   28    │ 2018 │  6   │ '2'  │\n",
      "│   29    │ 2018 │  7   │ '5'  │\n",
      "│   30    │ 2018 │  8   │ '1'  │\n",
      "│   31    │ 2018 │  9   │ '77' │\n",
      "│   32    │ 2018 │  10  │ '10' │\n",
      "│   33    │ 2018 │  11  │ '4'  │\n",
      "│   34    │ 2018 │  12  │ '1'  │\n",
      "│   35    │ 2019 │  2   │ '6'  │\n",
      "│   36    │ 2019 │  3   │ '4'  │\n",
      "│   37    │ 2019 │  4   │ '3'  │\n",
      "│   38    │ 2019 │  6   │ '7'  │\n",
      "│   39    │ 2019 │  7   │ '1'  │\n",
      "│   40    │ 2019 │  8   │ '1'  │\n",
      "│   41    │ 2019 │  9   │ '7'  │\n",
      "│   42    │ 2019 │  10  │ '8'  │\n",
      "│   43    │ 2019 │  12  │ '3'  │\n",
      "│   44    │ 2020 │  1   │ '5'  │\n",
      "│   45    │ 2020 │  2   │ '5'  │\n",
      "│   46    │ 2020 │  3   │ '9'  │\n",
      "│   47    │ 2020 │  4   │ '14' │\n",
      "│   48    │ 2020 │  5   │ '4'  │\n",
      "│   49    │ 2020 │  6   │ '2'  │\n",
      "│   50    │ 2020 │  7   │ '2'  │\n",
      "│   51    │ 2020 │  8   │ '1'  │\n",
      "│   52    │ 2020 │  9   │ '15' │\n",
      "│   53    │ 2020 │  11  │ '2'  │\n",
      "│   54    │ 2020 │  12  │ '3'  │\n",
      "│   55    │ 2021 │  1   │ '1'  │\n",
      "│   56    │ 2021 │  2   │ '4'  │\n",
      "│   57    │ 2021 │  4   │ '2'  │\n",
      "└─────────┴──────┴──────┴──────┘\n"
     ]
    }
   ],
   "metadata": {}
  },
  {
   "cell_type": "markdown",
   "source": [
    "# 3"
   ],
   "metadata": {}
  },
  {
   "cell_type": "code",
   "execution_count": 38,
   "source": [
    "// 3.每月打开的pr\n",
    "var open_pr_count_ls = []\n",
    "count_type_action_each_month(year_ls, \"PullRequestEvent\", 'opened', open_pr_count_ls)"
   ],
   "outputs": [],
   "metadata": {}
  },
  {
   "cell_type": "code",
   "execution_count": 37,
   "source": [
    "function count_merge_each_month(year_ls, type, action, ls) {\n",
    "    year_ls.forEach(each=>{\n",
    "        query(\n",
    "            `\n",
    "            SELECT count(*) record_count, month,year_t from (\n",
    "                SELECT created_at, toMonth(created_at) month,toYear(created_at) year_t\n",
    "                FROM github_log.year${each}    \n",
    "                where repo_id = ${repo_id}\n",
    "                and type = '${type}'\n",
    "                and action = '${action}'\n",
    "                and pull_merged = 1 \n",
    "            ) t\n",
    "            group by t.month,t.year_t order by t.month\n",
    "            `).then(\n",
    "            res=>{\n",
    "                ls.push(res)\n",
    "            }\n",
    "        )\n",
    "    })\n",
    "}\n",
    "\n",
    "var merge_pr_ls = []\n",
    "count_merge_each_month(year_ls, \"PullRequestEvent\", 'closed', merge_pr_ls)"
   ],
   "outputs": [],
   "metadata": {}
  },
  {
   "cell_type": "code",
   "execution_count": 39,
   "source": [
    "open_pr_count_ls.sort(function(a,b){\n",
    "            return a[0].year_t-b[0].year_t});\n",
    "merge_pr_ls.sort(function(a,b){\n",
    "            return a[0].year_t-b[0].year_t});"
   ],
   "outputs": [
    {
     "output_type": "execute_result",
     "data": {
      "text/plain": [
       "[\n",
       "  [\n",
       "    { record_count: '6', month: 2, year_t: 2016 },\n",
       "    { record_count: '6', month: 3, year_t: 2016 },\n",
       "    { record_count: '3', month: 4, year_t: 2016 },\n",
       "    { record_count: '3', month: 5, year_t: 2016 },\n",
       "    { record_count: '1', month: 6, year_t: 2016 },\n",
       "    { record_count: '1', month: 7, year_t: 2016 },\n",
       "    { record_count: '1', month: 9, year_t: 2016 },\n",
       "    { record_count: '1', month: 12, year_t: 2016 }\n",
       "  ],\n",
       "  [\n",
       "    { record_count: '1', month: 2, year_t: 2017 },\n",
       "    { record_count: '1', month: 4, year_t: 2017 },\n",
       "    { record_count: '3', month: 5, year_t: 2017 }\n",
       "  ],\n",
       "  [\n",
       "    { record_count: '11', month: 1, year_t: 2018 },\n",
       "    { record_count: '1', month: 3, year_t: 2018 },\n",
       "    { record_count: '4', month: 7, year_t: 2018 },\n",
       "    { record_count: '3', month: 9, year_t: 2018 }\n",
       "  ],\n",
       "  [\n",
       "    { record_count: '2', month: 2, year_t: 2019 },\n",
       "    { record_count: '2', month: 3, year_t: 2019 },\n",
       "    { record_count: '1', month: 6, year_t: 2019 },\n",
       "    { record_count: '3', month: 9, year_t: 2019 }\n",
       "  ],\n",
       "  [\n",
       "    { record_count: '1', month: 1, year_t: 2020 },\n",
       "    { record_count: '1', month: 3, year_t: 2020 },\n",
       "    { record_count: '1', month: 5, year_t: 2020 }\n",
       "  ],\n",
       "  [ { record_count: '1', month: 1, year_t: 2021 } ]\n",
       "]"
      ]
     },
     "metadata": {},
     "execution_count": 39
    }
   ],
   "metadata": {}
  },
  {
   "cell_type": "code",
   "execution_count": 40,
   "source": [
    "var open_pr_y=[]\n",
    "var open_pr_x=[]\n",
    "var open_pr_year=[]\n",
    "plotxy(open_pr_count_ls,open_pr_y,open_pr_x,open_pr_year)\n",
    "plot(open_pr_y,open_pr_x,open_pr_year,'每月打开pr个数')\n",
    "table_(open_pr_count_ls)"
   ],
   "outputs": [
    {
     "output_type": "execute_result",
     "data": {
      "application/vnd.plotly.v1+json": {
       "data": [
        {
         "x": [
          "2016-2",
          "2016-3",
          "2016-4",
          "2016-5",
          "2016-6",
          "2016-7",
          "2016-8",
          "2016-9",
          "2016-10",
          "2016-11",
          "2016-12",
          "2017-2",
          "2017-4",
          "2017-5",
          "2017-7",
          "2017-8",
          "2017-9",
          "2017-11",
          "2017-12",
          "2018-1",
          "2018-3",
          "2018-5",
          "2018-7",
          "2018-9",
          "2018-10",
          "2018-11",
          "2018-12",
          "2019-2",
          "2019-3",
          "2019-6",
          "2019-9",
          "2019-10",
          "2019-12",
          "2020-1",
          "2020-2",
          "2020-3",
          "2020-4",
          "2020-5",
          "2020-6",
          "2020-7",
          "2020-9",
          "2020-10",
          "2021-1",
          "2021-3",
          "2021-5",
          "2021-7",
          "2021-8"
         ],
         "y": [
          11,
          11,
          2,
          4,
          3,
          3,
          1,
          2,
          1,
          1,
          2,
          1,
          4,
          7,
          1,
          1,
          1,
          1,
          3,
          10,
          2,
          1,
          4,
          6,
          2,
          1,
          2,
          4,
          5,
          1,
          3,
          1,
          1,
          1,
          1,
          2,
          1,
          2,
          3,
          1,
          2,
          1,
          1,
          1,
          2,
          1,
          1
         ]
        }
       ],
       "layout": {
        "autosize": true,
        "title": {
         "text": "每月打开pr个数"
        },
        "xaxis": {
         "autorange": true,
         "range": [
          "2016-02-01",
          "2021-08-01"
         ],
         "type": "date"
        },
        "yaxis": {
         "autorange": true,
         "range": [
          0.4444444444444444,
          11.555555555555555
         ],
         "type": "linear"
        }
       }
      },
      "image/png": "[encoded data removed]"
     },
     "metadata": {},
     "execution_count": 40
    },
    {
     "output_type": "stream",
     "name": "stdout",
     "text": [
      "┌─────────┬──────┬──────┬──────┐\n",
      "│ (index) │ 年份 │ 月份 │ 个数 │\n",
      "├─────────┼──────┼──────┼──────┤\n",
      "│    0    │ 2016 │  2   │ '11' │\n",
      "│    1    │ 2016 │  3   │ '11' │\n",
      "│    2    │ 2016 │  4   │ '2'  │\n",
      "│    3    │ 2016 │  5   │ '4'  │\n",
      "│    4    │ 2016 │  6   │ '3'  │\n",
      "│    5    │ 2016 │  7   │ '3'  │\n",
      "│    6    │ 2016 │  8   │ '1'  │\n",
      "│    7    │ 2016 │  9   │ '2'  │\n",
      "│    8    │ 2016 │  10  │ '1'  │\n",
      "│    9    │ 2016 │  11  │ '1'  │\n",
      "│   10    │ 2016 │  12  │ '2'  │\n",
      "│   11    │ 2017 │  2   │ '1'  │\n",
      "│   12    │ 2017 │  4   │ '4'  │\n",
      "│   13    │ 2017 │  5   │ '7'  │\n",
      "│   14    │ 2017 │  7   │ '1'  │\n",
      "│   15    │ 2017 │  8   │ '1'  │\n",
      "│   16    │ 2017 │  9   │ '1'  │\n",
      "│   17    │ 2017 │  11  │ '1'  │\n",
      "│   18    │ 2017 │  12  │ '3'  │\n",
      "│   19    │ 2018 │  1   │ '10' │\n",
      "│   20    │ 2018 │  3   │ '2'  │\n",
      "│   21    │ 2018 │  5   │ '1'  │\n",
      "│   22    │ 2018 │  7   │ '4'  │\n",
      "│   23    │ 2018 │  9   │ '6'  │\n",
      "│   24    │ 2018 │  10  │ '2'  │\n",
      "│   25    │ 2018 │  11  │ '1'  │\n",
      "│   26    │ 2018 │  12  │ '2'  │\n",
      "│   27    │ 2019 │  2   │ '4'  │\n",
      "│   28    │ 2019 │  3   │ '5'  │\n",
      "│   29    │ 2019 │  6   │ '1'  │\n",
      "│   30    │ 2019 │  9   │ '3'  │\n",
      "│   31    │ 2019 │  10  │ '1'  │\n",
      "│   32    │ 2019 │  12  │ '1'  │\n",
      "│   33    │ 2020 │  1   │ '1'  │\n",
      "│   34    │ 2020 │  2   │ '1'  │\n",
      "│   35    │ 2020 │  3   │ '2'  │\n",
      "│   36    │ 2020 │  4   │ '1'  │\n",
      "│   37    │ 2020 │  5   │ '2'  │\n",
      "│   38    │ 2020 │  6   │ '3'  │\n",
      "│   39    │ 2020 │  7   │ '1'  │\n",
      "│   40    │ 2020 │  9   │ '2'  │\n",
      "│   41    │ 2020 │  10  │ '1'  │\n",
      "│   42    │ 2021 │  1   │ '1'  │\n",
      "│   43    │ 2021 │  3   │ '1'  │\n",
      "│   44    │ 2021 │  5   │ '2'  │\n",
      "│   45    │ 2021 │  7   │ '1'  │\n",
      "│   46    │ 2021 │  8   │ '1'  │\n",
      "└─────────┴──────┴──────┴──────┘\n"
     ]
    }
   ],
   "metadata": {}
  },
  {
   "cell_type": "code",
   "execution_count": 41,
   "source": [
    "var merge_pr_y=[]\n",
    "var merge_pr_x=[]\n",
    "var merge_pr_year=[]\n",
    "plotxy(merge_pr_ls,merge_pr_y,merge_pr_x,merge_pr_year)\n",
    "plot(merge_pr_y,merge_pr_x,merge_pr_year,'每月合入pr个数')\n",
    "table_(merge_pr_ls)"
   ],
   "outputs": [
    {
     "output_type": "execute_result",
     "data": {
      "application/vnd.plotly.v1+json": {
       "data": [
        {
         "x": [
          "2016-2",
          "2016-3",
          "2016-4",
          "2016-5",
          "2016-6",
          "2016-7",
          "2016-9",
          "2016-12",
          "2017-2",
          "2017-4",
          "2017-5",
          "2018-1",
          "2018-3",
          "2018-7",
          "2018-9",
          "2019-2",
          "2019-3",
          "2019-6",
          "2019-9",
          "2020-1",
          "2020-3",
          "2020-5",
          "2021-1"
         ],
         "y": [
          6,
          6,
          3,
          3,
          1,
          1,
          1,
          1,
          1,
          1,
          3,
          11,
          1,
          4,
          3,
          2,
          2,
          1,
          3,
          1,
          1,
          1,
          1
         ]
        }
       ],
       "layout": {
        "autosize": true,
        "title": {
         "text": "每月合入pr个数"
        },
        "xaxis": {
         "autorange": true,
         "range": [
          "2016-02-01",
          "2021-01-01"
         ],
         "type": "date"
        },
        "yaxis": {
         "autorange": true,
         "range": [
          0.4444444444444444,
          11.555555555555555
         ],
         "type": "linear"
        }
       }
      },
      "image/png": "[encoded data removed]"
     },
     "metadata": {},
     "execution_count": 41
    },
    {
     "output_type": "stream",
     "name": "stdout",
     "text": [
      "┌─────────┬──────┬──────┬──────┐\n",
      "│ (index) │ 年份 │ 月份 │ 个数 │\n",
      "├─────────┼──────┼──────┼──────┤\n",
      "│    0    │ 2016 │  2   │ '6'  │\n",
      "│    1    │ 2016 │  3   │ '6'  │\n",
      "│    2    │ 2016 │  4   │ '3'  │\n",
      "│    3    │ 2016 │  5   │ '3'  │\n",
      "│    4    │ 2016 │  6   │ '1'  │\n",
      "│    5    │ 2016 │  7   │ '1'  │\n",
      "│    6    │ 2016 │  9   │ '1'  │\n",
      "│    7    │ 2016 │  12  │ '1'  │\n",
      "│    8    │ 2017 │  2   │ '1'  │\n",
      "│    9    │ 2017 │  4   │ '1'  │\n",
      "│   10    │ 2017 │  5   │ '3'  │\n",
      "│   11    │ 2018 │  1   │ '11' │\n",
      "│   12    │ 2018 │  3   │ '1'  │\n",
      "│   13    │ 2018 │  7   │ '4'  │\n",
      "│   14    │ 2018 │  9   │ '3'  │\n",
      "│   15    │ 2019 │  2   │ '2'  │\n",
      "│   16    │ 2019 │  3   │ '2'  │\n",
      "│   17    │ 2019 │  6   │ '1'  │\n",
      "│   18    │ 2019 │  9   │ '3'  │\n",
      "│   19    │ 2020 │  1   │ '1'  │\n",
      "│   20    │ 2020 │  3   │ '1'  │\n",
      "│   21    │ 2020 │  5   │ '1'  │\n",
      "│   22    │ 2021 │  1   │ '1'  │\n",
      "└─────────┴──────┴──────┴──────┘\n"
     ]
    }
   ],
   "metadata": {}
  },
  {
   "cell_type": "markdown",
   "source": [
    "# 4"
   ],
   "metadata": {}
  },
  {
   "cell_type": "code",
   "execution_count": 43,
   "source": [
    "function active_developer_each_month(year_ls, ls){\n",
    "    year_ls.forEach(each=>{\n",
    "    query(\n",
    "        `\n",
    "        SELECT count(*) count, month,year_t from (\n",
    "            SELECT distinct actor_id, toMonth(created_at) month,toYear(created_at) year_t\n",
    "            FROM github_log.year${each}    \n",
    "            where repo_id = ${repo_id}\n",
    "        ) t\n",
    "        group by t.month,t.year_t order by t.month\n",
    "        `).then(\n",
    "        res=>{\n",
    "            ls.push(res)\n",
    "        }) \n",
    "    })\n",
    "}\n",
    "\n",
    "// 4.每月活跃开发者\n",
    "var active_developer = []\n",
    "active_developer_each_month(year_ls, active_developer)\n",
    "\n",
    "function plotxydev(count_ls,y_,x_,year_)\n",
    "{for(var i = 0;i< count_ls.length;i++)\n",
    "    {\n",
    "        count_ls[i].forEach(function(v){\n",
    "        y_.push(parseInt(v.count))\n",
    "        x_.push(count_ls[i][0].year_t.toString() + '-' + v.month.toString())})\n",
    "                            \n",
    "    }\n",
    "}\n",
    "\n",
    " \n",
    "function table_count(count_ls){\n",
    "    var all_ls=[]\n",
    "    for(var i = 0;i< count_ls.length;i++)\n",
    "    {\n",
    "        \n",
    "        count_ls[i].forEach(function(v){\n",
    "        all_ls.push(v)})\n",
    "    }\n",
    "    console.table(\n",
    "        all_ls.map((d, i) => {\n",
    "            return {\n",
    "                '年份': d.year_t,\n",
    "                '月份': d.month,\n",
    "                '个数': d.count,\n",
    "\n",
    "                };\n",
    "            }\n",
    "        )\n",
    "\n",
    "\n",
    "    );\n",
    "}"
   ],
   "outputs": [],
   "metadata": {}
  },
  {
   "cell_type": "code",
   "execution_count": 44,
   "source": [
    "active_developer.sort(function(a,b){\n",
    "            return a[0].year_t-b[0].year_t});"
   ],
   "outputs": [
    {
     "output_type": "execute_result",
     "data": {
      "text/plain": [
       "[\n",
       "  [\n",
       "    { count: '406', month: 2, year_t: 2016 },\n",
       "    { count: '209', month: 3, year_t: 2016 },\n",
       "    { count: '146', month: 4, year_t: 2016 },\n",
       "    { count: '199', month: 5, year_t: 2016 },\n",
       "    { count: '315', month: 6, year_t: 2016 },\n",
       "    { count: '491', month: 7, year_t: 2016 },\n",
       "    { count: '384', month: 8, year_t: 2016 },\n",
       "    { count: '285', month: 9, year_t: 2016 },\n",
       "    { count: '248', month: 10, year_t: 2016 },\n",
       "    { count: '372', month: 11, year_t: 2016 },\n",
       "    { count: '179', month: 12, year_t: 2016 }\n",
       "  ],\n",
       "  [\n",
       "    { count: '241', month: 1, year_t: 2017 },\n",
       "    { count: '258', month: 2, year_t: 2017 },\n",
       "    { count: '240', month: 3, year_t: 2017 },\n",
       "    { count: '272', month: 4, year_t: 2017 },\n",
       "    { count: '224', month: 5, year_t: 2017 },\n",
       "    { count: '145', month: 6, year_t: 2017 },\n",
       "    { count: '156', month: 7, year_t: 2017 },\n",
       "    { count: '275', month: 8, year_t: 2017 },\n",
       "    { count: '209', month: 9, year_t: 2017 },\n",
       "    { count: '142', month: 10, year_t: 2017 },\n",
       "    { count: '174', month: 11, year_t: 2017 },\n",
       "    { count: '284', month: 12, year_t: 2017 }\n",
       "  ],\n",
       "  [\n",
       "    { count: '629', month: 1, year_t: 2018 },\n",
       "    { count: '577', month: 2, year_t: 2018 },\n",
       "    { count: '274', month: 3, year_t: 2018 },\n",
       "    { count: '195', month: 4, year_t: 2018 },\n",
       "    { count: '241', month: 5, year_t: 2018 },\n",
       "    { count: '156', month: 6, year_t: 2018 },\n",
       "    { count: '214', month: 7, year_t: 2018 },\n",
       "    { count: '189', month: 8, year_t: 2018 },\n",
       "    { count: '210', month: 9, year_t: 2018 },\n",
       "    { count: '298', month: 10, year_t: 2018 },\n",
       "    { count: '197', month: 11, year_t: 2018 },\n",
       "    { count: '123', month: 12, year_t: 2018 }\n",
       "  ],\n",
       "  [\n",
       "    { count: '177', month: 1, year_t: 2019 },\n",
       "    { count: '292', month: 2, year_t: 2019 },\n",
       "    { count: '195', month: 3, year_t: 2019 },\n",
       "    { count: '136', month: 4, year_t: 2019 },\n",
       "    { count: '152', month: 5, year_t: 2019 },\n",
       "    { count: '137', month: 6, year_t: 2019 },\n",
       "    { count: '143', month: 7, year_t: 2019 },\n",
       "    { count: '147', month: 8, year_t: 2019 },\n",
       "    { count: '121', month: 9, year_t: 2019 },\n",
       "    { count: '136', month: 10, year_t: 2019 },\n",
       "    { count: '101', month: 11, year_t: 2019 },\n",
       "    { count: '117', month: 12, year_t: 2019 }\n",
       "  ],\n",
       "  [\n",
       "    { count: '209', month: 1, year_t: 2020 },\n",
       "    { count: '187', month: 2, year_t: 2020 },\n",
       "    { count: '230', month: 3, year_t: 2020 },\n",
       "    { count: '276', month: 4, year_t: 2020 },\n",
       "    { count: '329', month: 5, year_t: 2020 },\n",
       "    { count: '960', month: 6, year_t: 2020 },\n",
       "    { count: '322', month: 7, year_t: 2020 },\n",
       "    { count: '213', month: 8, year_t: 2020 },\n",
       "    { count: '189', month: 9, year_t: 2020 },\n",
       "    { count: '285', month: 10, year_t: 2020 },\n",
       "    { count: '341', month: 11, year_t: 2020 },\n",
       "    { count: '322', month: 12, year_t: 2020 }\n",
       "  ],\n",
       "  [\n",
       "    { count: '123', month: 1, year_t: 2021 },\n",
       "    { count: '87', month: 2, year_t: 2021 },\n",
       "    { count: '73', month: 3, year_t: 2021 },\n",
       "    { count: '58', month: 4, year_t: 2021 },\n",
       "    { count: '65', month: 5, year_t: 2021 },\n",
       "    { count: '63', month: 6, year_t: 2021 },\n",
       "    { count: '45', month: 7, year_t: 2021 },\n",
       "    { count: '45', month: 8, year_t: 2021 },\n",
       "    { count: '45', month: 9, year_t: 2021 },\n",
       "    { count: '5', month: 10, year_t: 2021 },\n",
       "    { count: '24', month: 11, year_t: 2021 },\n",
       "    { count: '26', month: 12, year_t: 2021 }\n",
       "  ]\n",
       "]"
      ]
     },
     "metadata": {},
     "execution_count": 44
    }
   ],
   "metadata": {}
  },
  {
   "cell_type": "code",
   "execution_count": 45,
   "source": [
    "var active_developer_y=[]\n",
    "var active_developer_x=[]\n",
    "var active_developer_year=[]\n",
    "plotxydev(active_developer,active_developer_y,active_developer_x,active_developer_year)\n",
    "plot(active_developer_y,active_developer_x,active_developer_year,'每月活跃开发者个数')\n",
    "table_count(active_developer)"
   ],
   "outputs": [
    {
     "output_type": "execute_result",
     "data": {
      "application/vnd.plotly.v1+json": {
       "data": [
        {
         "x": [
          "2016-2",
          "2016-3",
          "2016-4",
          "2016-5",
          "2016-6",
          "2016-7",
          "2016-8",
          "2016-9",
          "2016-10",
          "2016-11",
          "2016-12",
          "2017-1",
          "2017-2",
          "2017-3",
          "2017-4",
          "2017-5",
          "2017-6",
          "2017-7",
          "2017-8",
          "2017-9",
          "2017-10",
          "2017-11",
          "2017-12",
          "2018-1",
          "2018-2",
          "2018-3",
          "2018-4",
          "2018-5",
          "2018-6",
          "2018-7",
          "2018-8",
          "2018-9",
          "2018-10",
          "2018-11",
          "2018-12",
          "2019-1",
          "2019-2",
          "2019-3",
          "2019-4",
          "2019-5",
          "2019-6",
          "2019-7",
          "2019-8",
          "2019-9",
          "2019-10",
          "2019-11",
          "2019-12",
          "2020-1",
          "2020-2",
          "2020-3",
          "2020-4",
          "2020-5",
          "2020-6",
          "2020-7",
          "2020-8",
          "2020-9",
          "2020-10",
          "2020-11",
          "2020-12",
          "2021-1",
          "2021-2",
          "2021-3",
          "2021-4",
          "2021-5",
          "2021-6",
          "2021-7",
          "2021-8",
          "2021-9",
          "2021-10",
          "2021-11",
          "2021-12"
         ],
         "y": [
          406,
          209,
          146,
          199,
          315,
          491,
          384,
          285,
          248,
          372,
          179,
          241,
          258,
          240,
          272,
          224,
          145,
          156,
          275,
          209,
          142,
          174,
          284,
          629,
          577,
          274,
          195,
          241,
          156,
          214,
          189,
          210,
          298,
          197,
          123,
          177,
          292,
          195,
          136,
          152,
          137,
          143,
          147,
          121,
          136,
          101,
          117,
          209,
          187,
          230,
          276,
          329,
          960,
          322,
          213,
          189,
          285,
          341,
          322,
          123,
          87,
          73,
          58,
          65,
          63,
          45,
          45,
          45,
          5,
          24,
          26
         ]
        }
       ],
       "layout": {
        "autosize": true,
        "title": {
         "text": "每月活跃开发者个数"
        },
        "xaxis": {
         "autorange": true,
         "range": [
          "2016-02-01",
          "2021-12-01"
         ],
         "type": "date"
        },
        "yaxis": {
         "autorange": true,
         "range": [
          -48.05555555555556,
          1013.0555555555555
         ],
         "type": "linear"
        }
       }
      },
      "image/png": "[encoded data removed]"
     },
     "metadata": {},
     "execution_count": 45
    },
    {
     "output_type": "stream",
     "name": "stdout",
     "text": [
      "┌─────────┬──────┬──────┬───────┐\n",
      "│ (index) │ 年份 │ 月份 │ 个数  │\n",
      "├─────────┼──────┼──────┼───────┤\n",
      "│    0    │ 2016 │  2   │ '406' │\n",
      "│    1    │ 2016 │  3   │ '209' │\n",
      "│    2    │ 2016 │  4   │ '146' │\n",
      "│    3    │ 2016 │  5   │ '199' │\n",
      "│    4    │ 2016 │  6   │ '315' │\n",
      "│    5    │ 2016 │  7   │ '491' │\n",
      "│    6    │ 2016 │  8   │ '384' │\n",
      "│    7    │ 2016 │  9   │ '285' │\n",
      "│    8    │ 2016 │  10  │ '248' │\n",
      "│    9    │ 2016 │  11  │ '372' │\n",
      "│   10    │ 2016 │  12  │ '179' │\n",
      "│   11    │ 2017 │  1   │ '241' │\n",
      "│   12    │ 2017 │  2   │ '258' │\n",
      "│   13    │ 2017 │  3   │ '240' │\n",
      "│   14    │ 2017 │  4   │ '272' │\n",
      "│   15    │ 2017 │  5   │ '224' │\n",
      "│   16    │ 2017 │  6   │ '145' │\n",
      "│   17    │ 2017 │  7   │ '156' │\n",
      "│   18    │ 2017 │  8   │ '275' │\n",
      "│   19    │ 2017 │  9   │ '209' │\n",
      "│   20    │ 2017 │  10  │ '142' │\n",
      "│   21    │ 2017 │  11  │ '174' │\n",
      "│   22    │ 2017 │  12  │ '284' │\n",
      "│   23    │ 2018 │  1   │ '629' │\n",
      "│   24    │ 2018 │  2   │ '577' │\n",
      "│   25    │ 2018 │  3   │ '274' │\n",
      "│   26    │ 2018 │  4   │ '195' │\n",
      "│   27    │ 2018 │  5   │ '241' │\n",
      "│   28    │ 2018 │  6   │ '156' │\n",
      "│   29    │ 2018 │  7   │ '214' │\n",
      "│   30    │ 2018 │  8   │ '189' │\n",
      "│   31    │ 2018 │  9   │ '210' │\n",
      "│   32    │ 2018 │  10  │ '298' │\n",
      "│   33    │ 2018 │  11  │ '197' │\n",
      "│   34    │ 2018 │  12  │ '123' │\n",
      "│   35    │ 2019 │  1   │ '177' │\n",
      "│   36    │ 2019 │  2   │ '292' │\n",
      "│   37    │ 2019 │  3   │ '195' │\n",
      "│   38    │ 2019 │  4   │ '136' │\n",
      "│   39    │ 2019 │  5   │ '152' │\n",
      "│   40    │ 2019 │  6   │ '137' │\n",
      "│   41    │ 2019 │  7   │ '143' │\n",
      "│   42    │ 2019 │  8   │ '147' │\n",
      "│   43    │ 2019 │  9   │ '121' │\n",
      "│   44    │ 2019 │  10  │ '136' │\n",
      "│   45    │ 2019 │  11  │ '101' │\n",
      "│   46    │ 2019 │  12  │ '117' │\n",
      "│   47    │ 2020 │  1   │ '209' │\n",
      "│   48    │ 2020 │  2   │ '187' │\n",
      "│   49    │ 2020 │  3   │ '230' │\n",
      "│   50    │ 2020 │  4   │ '276' │\n",
      "│   51    │ 2020 │  5   │ '329' │\n",
      "│   52    │ 2020 │  6   │ '960' │\n",
      "│   53    │ 2020 │  7   │ '322' │\n",
      "│   54    │ 2020 │  8   │ '213' │\n",
      "│   55    │ 2020 │  9   │ '189' │\n",
      "│   56    │ 2020 │  10  │ '285' │\n",
      "│   57    │ 2020 │  11  │ '341' │\n",
      "│   58    │ 2020 │  12  │ '322' │\n",
      "│   59    │ 2021 │  1   │ '123' │\n",
      "│   60    │ 2021 │  2   │ '87'  │\n",
      "│   61    │ 2021 │  3   │ '73'  │\n",
      "│   62    │ 2021 │  4   │ '58'  │\n",
      "│   63    │ 2021 │  5   │ '65'  │\n",
      "│   64    │ 2021 │  6   │ '63'  │\n",
      "│   65    │ 2021 │  7   │ '45'  │\n",
      "│   66    │ 2021 │  8   │ '45'  │\n",
      "│   67    │ 2021 │  9   │ '45'  │\n",
      "│   68    │ 2021 │  10  │  '5'  │\n",
      "│   69    │ 2021 │  11  │ '24'  │\n",
      "│   70    │ 2021 │  12  │ '26'  │\n",
      "└─────────┴──────┴──────┴───────┘\n"
     ]
    }
   ],
   "metadata": {}
  },
  {
   "cell_type": "markdown",
   "source": [
    "# 5"
   ],
   "metadata": {}
  },
  {
   "cell_type": "code",
   "execution_count": 1012,
   "source": [
    "// 按天计获取类型以及动作\n",
    "function type_action_diff_by_day(year_ls, type, action_ls, diff_ls) {\n",
    "    //exp. 在year_ls[0]opened，在year_ls[1:]都是关闭\n",
    "    //第一年开的issue可能在后几年关闭，所以for循环的意义在于把year_ls中的每一年都看一遍，找出跨年提交的记录\n",
    "    for (let i = 0; i < year_ls.length; i++) {\n",
    "            query(\n",
    "            `\n",
    "               SELECT dateDiff('day', start, end) diff_by_day FROM \n",
    "               (\n",
    "                SELECT created_at start, issue_id id\n",
    "                FROM github_log.year${year_ls[0]}\n",
    "                WHERE repo_id = ${repo_id}\n",
    "                and type = '${type}'\n",
    "                and action = '${action_ls[0]}' \n",
    "               ) AS t1 JOIN (\n",
    "                SELECT created_at end, issue_id id\n",
    "                FROM github_log.year${year_ls[i]}\n",
    "                WHERE repo_id = ${repo_id}\n",
    "                and type = '${type}'\n",
    "                and action = '${action_ls[1]}' \n",
    "               )  t2 ON t1.id = t2.id \n",
    "            ` \n",
    "        ).then(\n",
    "            res=>res.forEach(each => diff_ls.push(each['diff_by_day']))\n",
    "        )\n",
    "    }\n",
    "}\n",
    "Issue_diff_day_ls = []\n",
    "type_action_diff_by_day(year_ls,'IssuesEvent', ['opened', 'closed'], Issue_diff_day_ls)"
   ],
   "outputs": [],
   "metadata": {}
  },
  {
   "cell_type": "code",
   "execution_count": 1013,
   "source": [
    "var sum_issue_records = 0\n",
    "var sum_issue_days = 0\n",
    "var Issue_diff_day_ls = []\n",
    "// Issue_diff_day_ls取得2016年结果\n",
    "type_action_diff_by_day(year_ls, 'IssuesEvent', ['opened', 'closed'], Issue_diff_day_ls)"
   ],
   "outputs": [],
   "metadata": {}
  },
  {
   "cell_type": "code",
   "execution_count": 1014,
   "source": [
    "// 2016年的结果加入计算打开关闭总天数以及计入个数\n",
    "sum_issue_days += Issue_diff_day_ls.length\n",
    "Issue_diff_day_ls.forEach(each => {sum_issue_records += Number(each)})\n",
    "console.log(sum_issue_days, sum_issue_records, \"2016年\")"
   ],
   "outputs": [
    {
     "output_type": "stream",
     "name": "stdout",
     "text": [
      "170 17324 2016年\n"
     ]
    }
   ],
   "metadata": {}
  },
  {
   "cell_type": "code",
   "execution_count": 1015,
   "source": [
    "// Issue_diff_day_ls取得2017年结果\n",
    "var Issue_diff_day_ls = []\n",
    "type_action_diff_by_day(year_ls.slice(1), 'IssuesEvent', ['opened', 'closed'], Issue_diff_day_ls)"
   ],
   "outputs": [],
   "metadata": {}
  },
  {
   "cell_type": "code",
   "execution_count": 1016,
   "source": [
    "// 2017年的结果加入计算打开关闭总天数以及计入个数\n",
    "sum_issue_days += Issue_diff_day_ls.length\n",
    "Issue_diff_day_ls.forEach(each => {sum_issue_records += Number(each)})\n",
    "console.log(sum_issue_days, sum_issue_records, \"2017年\")"
   ],
   "outputs": [
    {
     "output_type": "stream",
     "name": "stdout",
     "text": [
      "249 41405 2017年\n"
     ]
    }
   ],
   "metadata": {}
  },
  {
   "cell_type": "code",
   "execution_count": 1017,
   "source": [
    "// Issue_diff_day_ls取得2018年结果\n",
    "var Issue_diff_day_ls = []\n",
    "type_action_diff_by_day(year_ls.slice(2), 'IssuesEvent', ['opened', 'closed'], Issue_diff_day_ls)"
   ],
   "outputs": [],
   "metadata": {}
  },
  {
   "cell_type": "code",
   "execution_count": 1018,
   "source": [
    "// 2018年的结果加入计算打开关闭总天数以及计入个数\n",
    "sum_issue_days += Issue_diff_day_ls.length\n",
    "Issue_diff_day_ls.forEach(each => {sum_issue_records += Number(each)})\n",
    "console.log(sum_issue_days, sum_issue_records, \"2018年\")"
   ],
   "outputs": [
    {
     "output_type": "stream",
     "name": "stdout",
     "text": [
      "305 46289 2018年\n"
     ]
    }
   ],
   "metadata": {}
  },
  {
   "cell_type": "code",
   "execution_count": 1019,
   "source": [
    "// Issue_diff_day_ls取得2019年结果\n",
    "var Issue_diff_day_ls = []\n",
    "type_action_diff_by_day(year_ls.slice(3), 'IssuesEvent', ['opened', 'closed'], Issue_diff_day_ls)"
   ],
   "outputs": [],
   "metadata": {}
  },
  {
   "cell_type": "code",
   "execution_count": 1020,
   "source": [
    "// 2019年的结果加入计算打开关闭总天数以及计入个数\n",
    "sum_issue_days += Issue_diff_day_ls.length\n",
    "Issue_diff_day_ls.forEach(each => {sum_issue_records += Number(each)})\n",
    "console.log(sum_issue_days, sum_issue_records, \"2019年\")"
   ],
   "outputs": [
    {
     "output_type": "stream",
     "name": "stdout",
     "text": [
      "351 48829 2019年\n"
     ]
    }
   ],
   "metadata": {}
  },
  {
   "cell_type": "code",
   "execution_count": 1021,
   "source": [
    "// Issue_diff_day_ls取得2020年结果\n",
    "var Issue_diff_day_ls = []\n",
    "type_action_diff_by_day(year_ls.slice(4), 'IssuesEvent', ['opened', 'closed'], Issue_diff_day_ls)"
   ],
   "outputs": [],
   "metadata": {}
  },
  {
   "cell_type": "code",
   "execution_count": 1022,
   "source": [
    "// 2020年的结果加入计算打开关闭总天数以及计入个数\n",
    "sum_issue_days += Issue_diff_day_ls.length\n",
    "Issue_diff_day_ls.forEach(each => {sum_issue_records += Number(each)})\n",
    "console.log(sum_issue_days, sum_issue_records, \"2020年\")"
   ],
   "outputs": [
    {
     "output_type": "stream",
     "name": "stdout",
     "text": [
      "399 49468 2020年\n"
     ]
    }
   ],
   "metadata": {}
  },
  {
   "cell_type": "code",
   "execution_count": 1023,
   "source": [
    "// Issue_diff_day_ls取得2021年结果\n",
    "var Issue_diff_day_ls = []\n",
    "type_action_diff_by_day(year_ls.slice(5), 'IssuesEvent', ['opened', 'closed'], Issue_diff_day_ls)"
   ],
   "outputs": [],
   "metadata": {}
  },
  {
   "cell_type": "code",
   "execution_count": 1024,
   "source": [
    "// 2021年的结果加入计算打开关闭总天数以及计入个数\n",
    "sum_issue_days += Issue_diff_day_ls.length\n",
    "Issue_diff_day_ls.forEach(each => {sum_issue_records += Number(each)})\n",
    "console.log(sum_issue_days, sum_issue_records, \"2021年\")"
   ],
   "outputs": [
    {
     "output_type": "stream",
     "name": "stdout",
     "text": [
      "403 49474 2021年\n"
     ]
    }
   ],
   "metadata": {}
  },
  {
   "cell_type": "markdown",
   "source": [
    "## 5. Issue 从打开到关闭的平均时长（单位：天）"
   ],
   "metadata": {}
  },
  {
   "cell_type": "code",
   "execution_count": 1025,
   "source": [
    "avg_issue_close = sum_issue_records/sum_issue_days\n",
    "console.log(avg_issue_close)"
   ],
   "outputs": [
    {
     "output_type": "stream",
     "name": "stdout",
     "text": [
      "122.76426799007444\n"
     ]
    }
   ],
   "metadata": {}
  },
  {
   "cell_type": "markdown",
   "source": [
    "## 5. Issue 从打开到关闭的中位数（单位：天）"
   ],
   "metadata": {}
  },
  {
   "cell_type": "code",
   "execution_count": 1026,
   "source": [
    "var Issue_diff_day_ls = []\n",
    "type_action_diff_by_day(year_ls, 'IssuesEvent', ['opened', 'closed'], Issue_diff_day_ls)"
   ],
   "outputs": [],
   "metadata": {}
  },
  {
   "cell_type": "code",
   "execution_count": 1027,
   "source": [
    "console.log(Issue_diff_day_ls.length)\n",
    "type_action_diff_by_day(year_ls.slice(1), 'IssuesEvent', ['opened', 'closed'], Issue_diff_day_ls)"
   ],
   "outputs": [
    {
     "output_type": "stream",
     "name": "stdout",
     "text": [
      "170\n"
     ]
    }
   ],
   "metadata": {}
  },
  {
   "cell_type": "code",
   "execution_count": 1028,
   "source": [
    "console.log(Issue_diff_day_ls.length)\n",
    "type_action_diff_by_day(year_ls.slice(2), 'IssuesEvent', ['opened', 'closed'], Issue_diff_day_ls)"
   ],
   "outputs": [
    {
     "output_type": "stream",
     "name": "stdout",
     "text": [
      "249\n"
     ]
    }
   ],
   "metadata": {}
  },
  {
   "cell_type": "code",
   "execution_count": 1029,
   "source": [
    "console.log(Issue_diff_day_ls.length)\n",
    "type_action_diff_by_day(year_ls.slice(3), 'IssuesEvent', ['opened', 'closed'], Issue_diff_day_ls)"
   ],
   "outputs": [
    {
     "output_type": "stream",
     "name": "stdout",
     "text": [
      "305\n"
     ]
    }
   ],
   "metadata": {}
  },
  {
   "cell_type": "code",
   "execution_count": 1030,
   "source": [
    "console.log(Issue_diff_day_ls.length)\n",
    "type_action_diff_by_day(year_ls.slice(4), 'IssuesEvent', ['opened', 'closed'], Issue_diff_day_ls)"
   ],
   "outputs": [
    {
     "output_type": "stream",
     "name": "stdout",
     "text": [
      "351\n"
     ]
    }
   ],
   "metadata": {}
  },
  {
   "cell_type": "code",
   "execution_count": 1031,
   "source": [
    "console.log(Issue_diff_day_ls.length)\n",
    "type_action_diff_by_day(year_ls.slice(5), 'IssuesEvent', ['opened', 'closed'], Issue_diff_day_ls)"
   ],
   "outputs": [
    {
     "output_type": "stream",
     "name": "stdout",
     "text": [
      "399\n"
     ]
    }
   ],
   "metadata": {}
  },
  {
   "cell_type": "code",
   "execution_count": 1032,
   "source": [
    "console.log(Issue_diff_day_ls.length)"
   ],
   "outputs": [
    {
     "output_type": "stream",
     "name": "stdout",
     "text": [
      "403\n"
     ]
    }
   ],
   "metadata": {}
  },
  {
   "cell_type": "code",
   "execution_count": 1301,
   "source": [
    "Issue_diff_day_ls.sort(function(a,b){\n",
    "    return a-b;\n",
    "});\n",
    "console.log(Issue_diff_day_ls[201],\"是Issue从打开到关闭的中位数\")"
   ],
   "outputs": [
    {
     "output_type": "stream",
     "name": "stdout",
     "text": [
      "5 是Issue从打开到关闭的中位数\n"
     ]
    }
   ],
   "metadata": {}
  },
  {
   "cell_type": "markdown",
   "source": [
    "______________________________________________________________________"
   ],
   "metadata": {}
  },
  {
   "cell_type": "markdown",
   "source": [
    "# 6"
   ],
   "metadata": {}
  },
  {
   "cell_type": "code",
   "execution_count": 1037,
   "source": [
    "// PR 从打开到合入的平均时长和中位数\n",
    "function open_to_merge_by_day(year_ls, type, action_ls, diff_ls) {\n",
    "    for (let i = 0; i < year_ls.length; i++) {\n",
    "            query(\n",
    "            `\n",
    "               SELECT dateDiff('day', start, end) diff_by_day FROM \n",
    "               (\n",
    "                SELECT created_at start, issue_id id\n",
    "                FROM github_log.year${year_ls[0]}\n",
    "                WHERE repo_id = ${repo_id}\n",
    "                and type = '${type}'\n",
    "                and action = '${action_ls[0]}' \n",
    "               ) AS t1 JOIN (\n",
    "                SELECT created_at end, issue_id id\n",
    "                FROM github_log.year${year_ls[i]}\n",
    "                WHERE repo_id = ${repo_id}\n",
    "                and type = '${type}'\n",
    "                and action = '${action_ls[1]}'\n",
    "                and pull_merged = 1\n",
    "               )  t2 ON t1.id = t2.id\n",
    "            ` \n",
    "        ).then(\n",
    "            res=>res.forEach(each => diff_ls.push(each['diff_by_day']))\n",
    "        )\n",
    "    }\n",
    "}\n"
   ],
   "outputs": [],
   "metadata": {}
  },
  {
   "cell_type": "code",
   "execution_count": 1038,
   "source": [
    "var sum_pr_records = 0\n",
    "var count_pr_days = 0\n",
    "\n",
    "// Issue_diff_day_ls取得2016年结果\n",
    "var pr_diff_day_ls = []\n",
    "open_to_merge_by_day(year_ls.slice(0), 'PullRequestEvent', ['opened', 'closed'], pr_diff_day_ls)"
   ],
   "outputs": [],
   "metadata": {}
  },
  {
   "cell_type": "code",
   "execution_count": 1039,
   "source": [
    "pr_diff_day_ls.forEach(each => {sum_pr_records += Number(each)})\n",
    "count_pr_days += pr_diff_day_ls.length\n",
    "console.log(count_pr_days, sum_pr_records, \"2016年\")\n",
    "// Issue_diff_day_ls取得2017年结果\n",
    "var pr_diff_day_ls = []\n",
    "open_to_merge_by_day(year_ls.slice(1), 'PullRequestEvent', ['opened', 'closed'], pr_diff_day_ls)"
   ],
   "outputs": [
    {
     "output_type": "stream",
     "name": "stdout",
     "text": [
      "22 109 2016年\n"
     ]
    }
   ],
   "metadata": {}
  },
  {
   "cell_type": "code",
   "execution_count": 1040,
   "source": [
    "pr_diff_day_ls.forEach(each => {sum_pr_records += Number(each)})\n",
    "count_pr_days += pr_diff_day_ls.length\n",
    "console.log(count_pr_days, sum_pr_records, \"2017年\")\n",
    "// Issue_diff_day_ls取得2018年结果\n",
    "var pr_diff_day_ls = []\n",
    "open_to_merge_by_day(year_ls.slice(2), 'PullRequestEvent', ['opened', 'closed'], pr_diff_day_ls)"
   ],
   "outputs": [
    {
     "output_type": "stream",
     "name": "stdout",
     "text": [
      "28 363 2017年\n"
     ]
    }
   ],
   "metadata": {}
  },
  {
   "cell_type": "code",
   "execution_count": 1041,
   "source": [
    "pr_diff_day_ls.forEach(each => {sum_pr_records += Number(each)})\n",
    "count_pr_days += pr_diff_day_ls.length\n",
    "console.log(count_pr_days, sum_pr_records, \"2018年\")\n",
    "// Issue_diff_day_ls取得2019年结果\n",
    "var pr_diff_day_ls = []\n",
    "open_to_merge_by_day(year_ls.slice(3), 'PullRequestEvent', ['opened', 'closed'], pr_diff_day_ls)"
   ],
   "outputs": [
    {
     "output_type": "stream",
     "name": "stdout",
     "text": [
      "46 517 2018年\n"
     ]
    }
   ],
   "metadata": {}
  },
  {
   "cell_type": "code",
   "execution_count": 1042,
   "source": [
    "pr_diff_day_ls.forEach(each => {sum_pr_records += Number(each)})\n",
    "count_pr_days += pr_diff_day_ls.length\n",
    "console.log(count_pr_days, sum_pr_records, \"2019年\")\n",
    "// Issue_diff_day_ls取得2020年结果\n",
    "var pr_diff_day_ls = []\n",
    "open_to_merge_by_day(year_ls.slice(4), 'PullRequestEvent', ['opened', 'closed'], pr_diff_day_ls)"
   ],
   "outputs": [
    {
     "output_type": "stream",
     "name": "stdout",
     "text": [
      "54 518 2019年\n"
     ]
    }
   ],
   "metadata": {}
  },
  {
   "cell_type": "code",
   "execution_count": 1043,
   "source": [
    "pr_diff_day_ls.forEach(each => {sum_pr_records += Number(each)})\n",
    "count_pr_days += pr_diff_day_ls.length\n",
    "console.log(count_pr_days, sum_pr_records, \"2020年\")\n",
    "// Issue_diff_day_ls取得2021年结果\n",
    "var pr_diff_day_ls = []\n",
    "open_to_merge_by_day(year_ls.slice(5), 'PullRequestEvent', ['opened', 'closed'], pr_diff_day_ls)"
   ],
   "outputs": [
    {
     "output_type": "stream",
     "name": "stdout",
     "text": [
      "57 541 2020年\n"
     ]
    }
   ],
   "metadata": {}
  },
  {
   "cell_type": "code",
   "execution_count": 1044,
   "source": [
    "pr_diff_day_ls.forEach(each => {sum_pr_records += Number(each)})\n",
    "count_pr_days += pr_diff_day_ls.length\n",
    "console.log(count_pr_days, sum_pr_records, \"2021年\")"
   ],
   "outputs": [
    {
     "output_type": "stream",
     "name": "stdout",
     "text": [
      "58 542 2021年\n"
     ]
    }
   ],
   "metadata": {}
  },
  {
   "cell_type": "markdown",
   "source": [
    "## 6.1 PR打开到合入的平均时间"
   ],
   "metadata": {}
  },
  {
   "cell_type": "code",
   "execution_count": 1045,
   "source": [
    "console.log(sum_pr_records/count_pr_days,\"是pr从打开到关闭的平均时间\")"
   ],
   "outputs": [
    {
     "output_type": "stream",
     "name": "stdout",
     "text": [
      "9.344827586206897 是pr从打开到关闭的平均时间\n"
     ]
    }
   ],
   "metadata": {}
  },
  {
   "cell_type": "markdown",
   "source": [
    "## 6.2 PR打开到合入的中位数"
   ],
   "metadata": {}
  },
  {
   "cell_type": "code",
   "execution_count": 1046,
   "source": [
    "var pr_diff_day_ls = []\n",
    "type_action_diff_by_day(year_ls, 'IssuesEvent', ['opened', 'closed'], pr_diff_day_ls)"
   ],
   "outputs": [],
   "metadata": {}
  },
  {
   "cell_type": "code",
   "execution_count": 1047,
   "source": [
    "console.log(pr_diff_day_ls.length)\n",
    "type_action_diff_by_day(year_ls.slice(1), 'PullRequestEvent', ['opened', 'closed'], pr_diff_day_ls)"
   ],
   "outputs": [
    {
     "output_type": "stream",
     "name": "stdout",
     "text": [
      "170\n"
     ]
    }
   ],
   "metadata": {}
  },
  {
   "cell_type": "code",
   "execution_count": 1048,
   "source": [
    "console.log(pr_diff_day_ls.length)\n",
    "type_action_diff_by_day(year_ls.slice(2), 'PullRequestEvent', ['opened', 'closed'], pr_diff_day_ls)"
   ],
   "outputs": [
    {
     "output_type": "stream",
     "name": "stdout",
     "text": [
      "184\n"
     ]
    }
   ],
   "metadata": {}
  },
  {
   "cell_type": "code",
   "execution_count": 1049,
   "source": [
    "console.log(pr_diff_day_ls.length)\n",
    "type_action_diff_by_day(year_ls.slice(3), 'PullRequestEvent', ['opened', 'closed'], pr_diff_day_ls)"
   ],
   "outputs": [
    {
     "output_type": "stream",
     "name": "stdout",
     "text": [
      "206\n"
     ]
    }
   ],
   "metadata": {}
  },
  {
   "cell_type": "code",
   "execution_count": 1050,
   "source": [
    "console.log(pr_diff_day_ls.length)\n",
    "type_action_diff_by_day(year_ls.slice(4), 'PullRequestEvent', ['opened', 'closed'], pr_diff_day_ls)"
   ],
   "outputs": [
    {
     "output_type": "stream",
     "name": "stdout",
     "text": [
      "217\n"
     ]
    }
   ],
   "metadata": {}
  },
  {
   "cell_type": "code",
   "execution_count": 1051,
   "source": [
    "console.log(pr_diff_day_ls.length)\n",
    "type_action_diff_by_day(year_ls.slice(5), 'PullRequestEvent', ['opened', 'closed'], pr_diff_day_ls)"
   ],
   "outputs": [
    {
     "output_type": "stream",
     "name": "stdout",
     "text": [
      "224\n"
     ]
    }
   ],
   "metadata": {}
  },
  {
   "cell_type": "code",
   "execution_count": 1300,
   "source": [
    "pr_diff_day_ls.sort(function(a,b){\n",
    "    return a-b;\n",
    "});\n",
    "var num1 = Number(pr_diff_day_ls[111])\n",
    "var num2 = Number(pr_diff_day_ls[112])\n",
    "console.log((num1+num2)/2,\"是pr从打开到关闭的中位数\")"
   ],
   "outputs": [
    {
     "output_type": "stream",
     "name": "stdout",
     "text": [
      "2 是pr从打开到关闭的中位数\n"
     ]
    }
   ],
   "metadata": {}
  },
  {
   "cell_type": "markdown",
   "source": [
    "# 7"
   ],
   "metadata": {}
  },
  {
   "cell_type": "code",
   "execution_count": 1338,
   "source": [
    "// Issue和PR从打开到第一次有人回复（非本人回复）的平均时长和中位数（单位：天） issue_comment_author_id\n",
    "function Event_open_comment_diff_day(year_ls, type_ls, action_ls, diff_ls) {\n",
    "    for (let i = 0; i < year_ls.length; i++) {\n",
    "            query(\n",
    "            `\n",
    "               SELECT dateDiff('day', start, end) diff_by_day FROM \n",
    "                       (\n",
    "                        SELECT created_at start, issue_id id, actor_id\n",
    "                        FROM github_log.year${year_ls[0]}\n",
    "                        WHERE repo_id = ${repo_id}\n",
    "                        and type = '${type_ls[0]}'\n",
    "                        and action = '${action_ls[0]}' \n",
    "                       ) t1 INNER JOIN (\n",
    "                        SELECT created_at end, issue_id id, actor_id\n",
    "                        FROM github_log.year${year_ls[i]}\n",
    "                        WHERE repo_id = ${repo_id}\n",
    "                        and type = '${type_ls[1]}'\n",
    "                        and action = '${action_ls[1]}'\n",
    "                        and issue_comments = 0\n",
    "                       ) t2 ON (t1.id = t2.id)\n",
    "                       WHERE t1.actor_id != t2.actor_id                   \n",
    "              \n",
    "            ` \n",
    "        ).then(    \n",
    "            res=>res.forEach(each => diff_ls.push(Number(each['diff_by_day'])))\n",
    "\n",
    "        )\n",
    "    }\n",
    "}"
   ],
   "outputs": [],
   "metadata": {}
  },
  {
   "cell_type": "markdown",
   "source": [
    "## 7.1 Issue和PR从打开到第一次有人回复（非本人回复）的平均时长和中位数（单位：天）"
   ],
   "metadata": {}
  },
  {
   "cell_type": "code",
   "execution_count": 1339,
   "source": [
    "var issue_first_comment_day = []\n",
    "Event_open_comment_diff_day(year_ls, ['IssuesEvent','IssueCommentEvent'], ['opened', 'created'], issue_first_comment_day)"
   ],
   "outputs": [],
   "metadata": {}
  },
  {
   "cell_type": "code",
   "execution_count": 1340,
   "source": [
    "Event_open_comment_diff_day(year_ls.slice(1), ['IssuesEvent','IssueCommentEvent'],\n",
    "                            ['opened', 'created'], issue_first_comment_day)"
   ],
   "outputs": [],
   "metadata": {}
  },
  {
   "cell_type": "code",
   "execution_count": 1341,
   "source": [
    "Event_open_comment_diff_day(year_ls.slice(2), ['IssuesEvent','IssueCommentEvent'], \n",
    "                            ['opened', 'created'], issue_first_comment_day)"
   ],
   "outputs": [],
   "metadata": {}
  },
  {
   "cell_type": "code",
   "execution_count": 1342,
   "source": [
    "Event_open_comment_diff_day(year_ls.slice(3), ['IssuesEvent','IssueCommentEvent'], \n",
    "                            ['opened', 'created'], issue_first_comment_day)"
   ],
   "outputs": [],
   "metadata": {}
  },
  {
   "cell_type": "code",
   "execution_count": 1343,
   "source": [
    "Event_open_comment_diff_day(year_ls.slice(4), ['IssuesEvent','IssueCommentEvent'],\n",
    "                            ['opened', 'created'], issue_first_comment_day)"
   ],
   "outputs": [],
   "metadata": {}
  },
  {
   "cell_type": "code",
   "execution_count": 1344,
   "source": [
    "Event_open_comment_diff_day(year_ls.slice(5), ['IssuesEvent','IssueCommentEvent'], \n",
    "                            ['opened', 'created'], issue_first_comment_day)"
   ],
   "outputs": [],
   "metadata": {}
  },
  {
   "cell_type": "code",
   "execution_count": 1345,
   "source": [
    "issue_first_comment_day.sort(function(a,b){\n",
    "    return a-b;\n",
    "});"
   ],
   "outputs": [
    {
     "output_type": "execute_result",
     "data": {
      "text/plain": [
       "[\n",
       "  0, 0, 0, 0, 0, 0, 0, 0, 0, 0, 0, 0,\n",
       "  0, 0, 0, 0, 0, 0, 0, 0, 0, 0, 0, 0,\n",
       "  0, 0, 0, 0, 0, 0, 0, 0, 0, 0, 0, 0,\n",
       "  0, 0, 0, 0, 0, 0, 0, 0, 0, 0, 0, 0,\n",
       "  0, 0, 0, 0, 0, 0, 0, 0, 0, 0, 0, 0,\n",
       "  0, 0, 0, 0, 0, 1, 1, 1, 1, 1, 1, 1,\n",
       "  1, 1, 1, 1, 1, 1, 1, 1, 1, 1, 1, 1,\n",
       "  1, 2, 2, 2, 2, 2, 2, 2, 2, 2, 3, 4,\n",
       "  4, 4, 4, 4,\n",
       "  ... 98 more items\n",
       "]"
      ]
     },
     "metadata": {},
     "execution_count": 1345
    }
   ],
   "metadata": {}
  },
  {
   "cell_type": "markdown",
   "source": [
    "### 7.1.1平均值"
   ],
   "metadata": {}
  },
  {
   "cell_type": "code",
   "execution_count": 1346,
   "source": [
    "var sum_issue_comment_day = 0\n",
    "issue_first_comment_day.forEach(each=>{\n",
    "    sum_issue_comment_day += each\n",
    "})\n",
    "console.log(\"Issue第一次回复的均值\",sum_issue_comment_day/(issue_first_comment_day.length))"
   ],
   "outputs": [
    {
     "output_type": "stream",
     "name": "stdout",
     "text": [
      "Issue第一次回复的均值 81.78787878787878\n"
     ]
    }
   ],
   "metadata": {}
  },
  {
   "cell_type": "markdown",
   "source": [
    "### 7.1.2中位数"
   ],
   "metadata": {}
  },
  {
   "cell_type": "code",
   "execution_count": 1347,
   "source": [
    "issue_first_comment_day.length"
   ],
   "outputs": [
    {
     "output_type": "execute_result",
     "data": {
      "text/plain": [
       "198"
      ]
     },
     "metadata": {},
     "execution_count": 1347
    }
   ],
   "metadata": {}
  },
  {
   "cell_type": "code",
   "execution_count": 1348,
   "source": [
    "console.log(\"Issue第一次回复的中位数\",(issue_first_comment_day[131]+issue_first_comment_day[132])/2)"
   ],
   "outputs": [
    {
     "output_type": "stream",
     "name": "stdout",
     "text": [
      "Issue第一次回复的中位数 29\n"
     ]
    }
   ],
   "metadata": {}
  },
  {
   "cell_type": "markdown",
   "source": [
    "## 7.2 PR从打开到第一次有人回复（非本人回复）的平均时长和中位数（单位：天）"
   ],
   "metadata": {}
  },
  {
   "cell_type": "code",
   "execution_count": 1330,
   "source": [
    "// Issue和PR从打开到第一次有人回复（非本人回复）的平均时长和中位数（单位：天） issue_comment_author_id\n",
    "function pr_open_comment_diff_day(year_ls, type_ls, action_ls, diff_ls) {\n",
    "    for (let i = 0; i < year_ls.length; i++) {\n",
    "            query(\n",
    "            `\n",
    "               SELECT dateDiff('day', start, end) diff_by_day FROM \n",
    "                       (\n",
    "                        SELECT created_at start, issue_id id, actor_id\n",
    "                        FROM github_log.year${year_ls[0]}\n",
    "                        WHERE repo_id = ${repo_id}\n",
    "                        and type = '${type_ls[0]}'\n",
    "                        and action = '${action_ls[0]}' \n",
    "                       ) t1 INNER JOIN (\n",
    "                        SELECT created_at end, issue_id id, actor_id\n",
    "                        FROM github_log.year${year_ls[i]}\n",
    "                        WHERE repo_id = ${repo_id}\n",
    "                        and type = '${type_ls[1]}'\n",
    "                        and action = '${action_ls[1]}'\n",
    "                        and pull_review_comments = 0\n",
    "                       ) t2 ON (t1.id = t2.id)\n",
    "                       WHERE t1.actor_id != t2.actor_id                   \n",
    "              \n",
    "            ` \n",
    "        ).then(    \n",
    "            res=>res.forEach(each => diff_ls.push(Number(each['diff_by_day'])))\n",
    "\n",
    "        )\n",
    "    }\n",
    "}"
   ],
   "outputs": [],
   "metadata": {}
  },
  {
   "cell_type": "code",
   "execution_count": 1331,
   "source": [
    "var pr_first_comment_day = []\n",
    "pr_open_comment_diff_day(year_ls, ['PullRequestEvent','PullRequestReviewCommentEvent'],\n",
    "                            ['opened', 'created'], pr_first_comment_day)"
   ],
   "outputs": [],
   "metadata": {}
  },
  {
   "cell_type": "code",
   "execution_count": 1332,
   "source": [
    "pr_open_comment_diff_day(year_ls.slice(1), ['PullRequestEvent','PullRequestReviewCommentEvent'],\n",
    "                            ['opened', 'created'], pr_first_comment_day)"
   ],
   "outputs": [],
   "metadata": {}
  },
  {
   "cell_type": "code",
   "execution_count": 1333,
   "source": [
    "pr_open_comment_diff_day(year_ls.slice(2), ['PullRequestEvent','PullRequestReviewCommentEvent'],\n",
    "                            ['opened', 'created'], pr_first_comment_day)"
   ],
   "outputs": [],
   "metadata": {}
  },
  {
   "cell_type": "code",
   "execution_count": 1334,
   "source": [
    "pr_open_comment_diff_day(year_ls.slice(3), ['PullRequestEvent','PullRequestReviewCommentEvent'],\n",
    "                            ['opened', 'created'], pr_first_comment_day)"
   ],
   "outputs": [],
   "metadata": {}
  },
  {
   "cell_type": "code",
   "execution_count": 1335,
   "source": [
    "pr_open_comment_diff_day(year_ls.slice(4), ['PullRequestEvent','PullRequestReviewCommentEvent'],\n",
    "                            ['opened', 'created'], pr_first_comment_day)"
   ],
   "outputs": [],
   "metadata": {}
  },
  {
   "cell_type": "code",
   "execution_count": 1336,
   "source": [
    "pr_open_comment_diff_day(year_ls.slice(5), ['PullRequestEvent','PullRequestReviewCommentEvent'],\n",
    "                            ['opened', 'created'], pr_first_comment_day)"
   ],
   "outputs": [],
   "metadata": {}
  },
  {
   "cell_type": "code",
   "execution_count": 1352,
   "source": [
    "pr_first_comment_day.sort(function(a,b){\n",
    "    return a-b;\n",
    "});\n",
    "pr_first_comment_day.length"
   ],
   "outputs": [
    {
     "output_type": "execute_result",
     "data": {
      "text/plain": [
       "24"
      ]
     },
     "metadata": {},
     "execution_count": 1352
    }
   ],
   "metadata": {}
  },
  {
   "cell_type": "markdown",
   "source": [
    "### 7.1 pr 并入均值"
   ],
   "metadata": {}
  },
  {
   "cell_type": "code",
   "execution_count": 1353,
   "source": [
    "var sum_pr_comment_day = 0\n",
    "pr_first_comment_day.forEach(each=>{\n",
    "    sum_pr_comment_day += each\n",
    "})\n",
    "console.log(\"pr第一次回复的均值\",sum_pr_comment_day/(pr_first_comment_day.length))"
   ],
   "outputs": [
    {
     "output_type": "stream",
     "name": "stdout",
     "text": [
      "pr第一次回复的均值 94.375\n"
     ]
    }
   ],
   "metadata": {}
  },
  {
   "cell_type": "markdown",
   "source": [
    "### 7.1 pr 并入中位数"
   ],
   "metadata": {}
  },
  {
   "cell_type": "code",
   "execution_count": 1355,
   "source": [
    "console.log(\"pr第一次回复的中位数\",(pr_first_comment_day[11]+pr_first_comment_day[12])/2)"
   ],
   "outputs": [
    {
     "output_type": "stream",
     "name": "stdout",
     "text": [
      "pr第一次回复的中位数 18\n"
     ]
    }
   ],
   "metadata": {}
  },
  {
   "cell_type": "code",
   "execution_count": null,
   "source": [],
   "outputs": [],
   "metadata": {}
  }
 ],
 "metadata": {
  "kernelspec": {
   "display_name": "JavaScript (Node.js)",
   "language": "javascript",
   "name": "javascript"
  },
  "language_info": {
   "file_extension": ".js",
   "mimetype": "application/javascript",
   "name": "javascript",
   "version": "16.13.2"
  }
 },
 "nbformat": 4,
 "nbformat_minor": 5
}